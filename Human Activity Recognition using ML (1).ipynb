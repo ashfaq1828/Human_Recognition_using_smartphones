{
 "cells": [
  {
   "cell_type": "code",
   "execution_count": 71,
   "id": "55c2d385",
   "metadata": {},
   "outputs": [],
   "source": [
    "import numpy as np \n",
    "import pandas as pd\n",
    "from matplotlib import pyplot as plt\n",
    "import seaborn as sns"
   ]
  },
  {
   "cell_type": "code",
   "execution_count": 72,
   "id": "fc854042",
   "metadata": {},
   "outputs": [],
   "source": [
    "df=pd.read_csv(\"train_har.csv\")"
   ]
  },
  {
   "cell_type": "code",
   "execution_count": 3,
   "id": "438dedc2",
   "metadata": {},
   "outputs": [
    {
     "data": {
      "text/html": [
       "<div>\n",
       "<style scoped>\n",
       "    .dataframe tbody tr th:only-of-type {\n",
       "        vertical-align: middle;\n",
       "    }\n",
       "\n",
       "    .dataframe tbody tr th {\n",
       "        vertical-align: top;\n",
       "    }\n",
       "\n",
       "    .dataframe thead th {\n",
       "        text-align: right;\n",
       "    }\n",
       "</style>\n",
       "<table border=\"1\" class=\"dataframe\">\n",
       "  <thead>\n",
       "    <tr style=\"text-align: right;\">\n",
       "      <th></th>\n",
       "      <th>tBodyAcc-mean()-X</th>\n",
       "      <th>tBodyAcc-mean()-Y</th>\n",
       "      <th>tBodyAcc-mean()-Z</th>\n",
       "      <th>tBodyAcc-std()-X</th>\n",
       "      <th>tBodyAcc-std()-Y</th>\n",
       "      <th>tBodyAcc-std()-Z</th>\n",
       "      <th>tBodyAcc-mad()-X</th>\n",
       "      <th>tBodyAcc-mad()-Y</th>\n",
       "      <th>tBodyAcc-mad()-Z</th>\n",
       "      <th>tBodyAcc-max()-X</th>\n",
       "      <th>...</th>\n",
       "      <th>fBodyBodyGyroJerkMag-skewness()</th>\n",
       "      <th>fBodyBodyGyroJerkMag-kurtosis()</th>\n",
       "      <th>angle(tBodyAccMean,gravity)</th>\n",
       "      <th>angle(tBodyAccJerkMean),gravityMean)</th>\n",
       "      <th>angle(tBodyGyroMean,gravityMean)</th>\n",
       "      <th>angle(tBodyGyroJerkMean,gravityMean)</th>\n",
       "      <th>angle(X,gravityMean)</th>\n",
       "      <th>angle(Y,gravityMean)</th>\n",
       "      <th>angle(Z,gravityMean)</th>\n",
       "      <th>subject</th>\n",
       "    </tr>\n",
       "  </thead>\n",
       "  <tbody>\n",
       "    <tr>\n",
       "      <th>count</th>\n",
       "      <td>7352.000000</td>\n",
       "      <td>7352.000000</td>\n",
       "      <td>7352.000000</td>\n",
       "      <td>7352.000000</td>\n",
       "      <td>7352.000000</td>\n",
       "      <td>7352.000000</td>\n",
       "      <td>7352.000000</td>\n",
       "      <td>7352.000000</td>\n",
       "      <td>7352.000000</td>\n",
       "      <td>7352.000000</td>\n",
       "      <td>...</td>\n",
       "      <td>7352.000000</td>\n",
       "      <td>7352.000000</td>\n",
       "      <td>7352.000000</td>\n",
       "      <td>7352.000000</td>\n",
       "      <td>7352.000000</td>\n",
       "      <td>7352.000000</td>\n",
       "      <td>7352.000000</td>\n",
       "      <td>7352.000000</td>\n",
       "      <td>7352.000000</td>\n",
       "      <td>7352.000000</td>\n",
       "    </tr>\n",
       "    <tr>\n",
       "      <th>mean</th>\n",
       "      <td>0.274488</td>\n",
       "      <td>-0.017695</td>\n",
       "      <td>-0.109141</td>\n",
       "      <td>-0.605438</td>\n",
       "      <td>-0.510938</td>\n",
       "      <td>-0.604754</td>\n",
       "      <td>-0.630512</td>\n",
       "      <td>-0.526907</td>\n",
       "      <td>-0.606150</td>\n",
       "      <td>-0.468604</td>\n",
       "      <td>...</td>\n",
       "      <td>-0.307009</td>\n",
       "      <td>-0.625294</td>\n",
       "      <td>0.008684</td>\n",
       "      <td>0.002186</td>\n",
       "      <td>0.008726</td>\n",
       "      <td>-0.005981</td>\n",
       "      <td>-0.489547</td>\n",
       "      <td>0.058593</td>\n",
       "      <td>-0.056515</td>\n",
       "      <td>17.413085</td>\n",
       "    </tr>\n",
       "    <tr>\n",
       "      <th>std</th>\n",
       "      <td>0.070261</td>\n",
       "      <td>0.040811</td>\n",
       "      <td>0.056635</td>\n",
       "      <td>0.448734</td>\n",
       "      <td>0.502645</td>\n",
       "      <td>0.418687</td>\n",
       "      <td>0.424073</td>\n",
       "      <td>0.485942</td>\n",
       "      <td>0.414122</td>\n",
       "      <td>0.544547</td>\n",
       "      <td>...</td>\n",
       "      <td>0.321011</td>\n",
       "      <td>0.307584</td>\n",
       "      <td>0.336787</td>\n",
       "      <td>0.448306</td>\n",
       "      <td>0.608303</td>\n",
       "      <td>0.477975</td>\n",
       "      <td>0.511807</td>\n",
       "      <td>0.297480</td>\n",
       "      <td>0.279122</td>\n",
       "      <td>8.975143</td>\n",
       "    </tr>\n",
       "    <tr>\n",
       "      <th>min</th>\n",
       "      <td>-1.000000</td>\n",
       "      <td>-1.000000</td>\n",
       "      <td>-1.000000</td>\n",
       "      <td>-1.000000</td>\n",
       "      <td>-0.999873</td>\n",
       "      <td>-1.000000</td>\n",
       "      <td>-1.000000</td>\n",
       "      <td>-1.000000</td>\n",
       "      <td>-1.000000</td>\n",
       "      <td>-1.000000</td>\n",
       "      <td>...</td>\n",
       "      <td>-0.995357</td>\n",
       "      <td>-0.999765</td>\n",
       "      <td>-0.976580</td>\n",
       "      <td>-1.000000</td>\n",
       "      <td>-1.000000</td>\n",
       "      <td>-1.000000</td>\n",
       "      <td>-1.000000</td>\n",
       "      <td>-1.000000</td>\n",
       "      <td>-1.000000</td>\n",
       "      <td>1.000000</td>\n",
       "    </tr>\n",
       "    <tr>\n",
       "      <th>25%</th>\n",
       "      <td>0.262975</td>\n",
       "      <td>-0.024863</td>\n",
       "      <td>-0.120993</td>\n",
       "      <td>-0.992754</td>\n",
       "      <td>-0.978129</td>\n",
       "      <td>-0.980233</td>\n",
       "      <td>-0.993591</td>\n",
       "      <td>-0.978162</td>\n",
       "      <td>-0.980251</td>\n",
       "      <td>-0.936219</td>\n",
       "      <td>...</td>\n",
       "      <td>-0.542602</td>\n",
       "      <td>-0.845573</td>\n",
       "      <td>-0.121527</td>\n",
       "      <td>-0.289549</td>\n",
       "      <td>-0.482273</td>\n",
       "      <td>-0.376341</td>\n",
       "      <td>-0.812065</td>\n",
       "      <td>-0.017885</td>\n",
       "      <td>-0.143414</td>\n",
       "      <td>8.000000</td>\n",
       "    </tr>\n",
       "    <tr>\n",
       "      <th>50%</th>\n",
       "      <td>0.277193</td>\n",
       "      <td>-0.017219</td>\n",
       "      <td>-0.108676</td>\n",
       "      <td>-0.946196</td>\n",
       "      <td>-0.851897</td>\n",
       "      <td>-0.859365</td>\n",
       "      <td>-0.950709</td>\n",
       "      <td>-0.857328</td>\n",
       "      <td>-0.857143</td>\n",
       "      <td>-0.881637</td>\n",
       "      <td>...</td>\n",
       "      <td>-0.343685</td>\n",
       "      <td>-0.711692</td>\n",
       "      <td>0.009509</td>\n",
       "      <td>0.008943</td>\n",
       "      <td>0.008735</td>\n",
       "      <td>-0.000368</td>\n",
       "      <td>-0.709417</td>\n",
       "      <td>0.182071</td>\n",
       "      <td>0.003181</td>\n",
       "      <td>19.000000</td>\n",
       "    </tr>\n",
       "    <tr>\n",
       "      <th>75%</th>\n",
       "      <td>0.288461</td>\n",
       "      <td>-0.010783</td>\n",
       "      <td>-0.097794</td>\n",
       "      <td>-0.242813</td>\n",
       "      <td>-0.034231</td>\n",
       "      <td>-0.262415</td>\n",
       "      <td>-0.292680</td>\n",
       "      <td>-0.066701</td>\n",
       "      <td>-0.265671</td>\n",
       "      <td>-0.017129</td>\n",
       "      <td>...</td>\n",
       "      <td>-0.126979</td>\n",
       "      <td>-0.503878</td>\n",
       "      <td>0.150865</td>\n",
       "      <td>0.292861</td>\n",
       "      <td>0.506187</td>\n",
       "      <td>0.359368</td>\n",
       "      <td>-0.509079</td>\n",
       "      <td>0.248353</td>\n",
       "      <td>0.107659</td>\n",
       "      <td>26.000000</td>\n",
       "    </tr>\n",
       "    <tr>\n",
       "      <th>max</th>\n",
       "      <td>1.000000</td>\n",
       "      <td>1.000000</td>\n",
       "      <td>1.000000</td>\n",
       "      <td>1.000000</td>\n",
       "      <td>0.916238</td>\n",
       "      <td>1.000000</td>\n",
       "      <td>1.000000</td>\n",
       "      <td>0.967664</td>\n",
       "      <td>1.000000</td>\n",
       "      <td>1.000000</td>\n",
       "      <td>...</td>\n",
       "      <td>0.989538</td>\n",
       "      <td>0.956845</td>\n",
       "      <td>1.000000</td>\n",
       "      <td>1.000000</td>\n",
       "      <td>0.998702</td>\n",
       "      <td>0.996078</td>\n",
       "      <td>1.000000</td>\n",
       "      <td>0.478157</td>\n",
       "      <td>1.000000</td>\n",
       "      <td>30.000000</td>\n",
       "    </tr>\n",
       "  </tbody>\n",
       "</table>\n",
       "<p>8 rows × 562 columns</p>\n",
       "</div>"
      ],
      "text/plain": [
       "       tBodyAcc-mean()-X  tBodyAcc-mean()-Y  tBodyAcc-mean()-Z  \\\n",
       "count        7352.000000        7352.000000        7352.000000   \n",
       "mean            0.274488          -0.017695          -0.109141   \n",
       "std             0.070261           0.040811           0.056635   \n",
       "min            -1.000000          -1.000000          -1.000000   \n",
       "25%             0.262975          -0.024863          -0.120993   \n",
       "50%             0.277193          -0.017219          -0.108676   \n",
       "75%             0.288461          -0.010783          -0.097794   \n",
       "max             1.000000           1.000000           1.000000   \n",
       "\n",
       "       tBodyAcc-std()-X  tBodyAcc-std()-Y  tBodyAcc-std()-Z  tBodyAcc-mad()-X  \\\n",
       "count       7352.000000       7352.000000       7352.000000       7352.000000   \n",
       "mean          -0.605438         -0.510938         -0.604754         -0.630512   \n",
       "std            0.448734          0.502645          0.418687          0.424073   \n",
       "min           -1.000000         -0.999873         -1.000000         -1.000000   \n",
       "25%           -0.992754         -0.978129         -0.980233         -0.993591   \n",
       "50%           -0.946196         -0.851897         -0.859365         -0.950709   \n",
       "75%           -0.242813         -0.034231         -0.262415         -0.292680   \n",
       "max            1.000000          0.916238          1.000000          1.000000   \n",
       "\n",
       "       tBodyAcc-mad()-Y  tBodyAcc-mad()-Z  tBodyAcc-max()-X  ...  \\\n",
       "count       7352.000000       7352.000000       7352.000000  ...   \n",
       "mean          -0.526907         -0.606150         -0.468604  ...   \n",
       "std            0.485942          0.414122          0.544547  ...   \n",
       "min           -1.000000         -1.000000         -1.000000  ...   \n",
       "25%           -0.978162         -0.980251         -0.936219  ...   \n",
       "50%           -0.857328         -0.857143         -0.881637  ...   \n",
       "75%           -0.066701         -0.265671         -0.017129  ...   \n",
       "max            0.967664          1.000000          1.000000  ...   \n",
       "\n",
       "       fBodyBodyGyroJerkMag-skewness()  fBodyBodyGyroJerkMag-kurtosis()  \\\n",
       "count                      7352.000000                      7352.000000   \n",
       "mean                         -0.307009                        -0.625294   \n",
       "std                           0.321011                         0.307584   \n",
       "min                          -0.995357                        -0.999765   \n",
       "25%                          -0.542602                        -0.845573   \n",
       "50%                          -0.343685                        -0.711692   \n",
       "75%                          -0.126979                        -0.503878   \n",
       "max                           0.989538                         0.956845   \n",
       "\n",
       "       angle(tBodyAccMean,gravity)  angle(tBodyAccJerkMean),gravityMean)  \\\n",
       "count                  7352.000000                           7352.000000   \n",
       "mean                      0.008684                              0.002186   \n",
       "std                       0.336787                              0.448306   \n",
       "min                      -0.976580                             -1.000000   \n",
       "25%                      -0.121527                             -0.289549   \n",
       "50%                       0.009509                              0.008943   \n",
       "75%                       0.150865                              0.292861   \n",
       "max                       1.000000                              1.000000   \n",
       "\n",
       "       angle(tBodyGyroMean,gravityMean)  angle(tBodyGyroJerkMean,gravityMean)  \\\n",
       "count                       7352.000000                           7352.000000   \n",
       "mean                           0.008726                             -0.005981   \n",
       "std                            0.608303                              0.477975   \n",
       "min                           -1.000000                             -1.000000   \n",
       "25%                           -0.482273                             -0.376341   \n",
       "50%                            0.008735                             -0.000368   \n",
       "75%                            0.506187                              0.359368   \n",
       "max                            0.998702                              0.996078   \n",
       "\n",
       "       angle(X,gravityMean)  angle(Y,gravityMean)  angle(Z,gravityMean)  \\\n",
       "count           7352.000000           7352.000000           7352.000000   \n",
       "mean              -0.489547              0.058593             -0.056515   \n",
       "std                0.511807              0.297480              0.279122   \n",
       "min               -1.000000             -1.000000             -1.000000   \n",
       "25%               -0.812065             -0.017885             -0.143414   \n",
       "50%               -0.709417              0.182071              0.003181   \n",
       "75%               -0.509079              0.248353              0.107659   \n",
       "max                1.000000              0.478157              1.000000   \n",
       "\n",
       "           subject  \n",
       "count  7352.000000  \n",
       "mean     17.413085  \n",
       "std       8.975143  \n",
       "min       1.000000  \n",
       "25%       8.000000  \n",
       "50%      19.000000  \n",
       "75%      26.000000  \n",
       "max      30.000000  \n",
       "\n",
       "[8 rows x 562 columns]"
      ]
     },
     "execution_count": 3,
     "metadata": {},
     "output_type": "execute_result"
    }
   ],
   "source": [
    "df.describe()"
   ]
  },
  {
   "cell_type": "code",
   "execution_count": 20,
   "id": "637e3155",
   "metadata": {},
   "outputs": [
    {
     "data": {
      "text/plain": [
       "0        1\n",
       "1        1\n",
       "2        1\n",
       "3        1\n",
       "4        1\n",
       "        ..\n",
       "7347    30\n",
       "7348    30\n",
       "7349    30\n",
       "7350    30\n",
       "7351    30\n",
       "Name: subject, Length: 7352, dtype: int64"
      ]
     },
     "execution_count": 20,
     "metadata": {},
     "output_type": "execute_result"
    }
   ],
   "source": [
    "df['subject']"
   ]
  },
  {
   "cell_type": "code",
   "execution_count": 4,
   "id": "ce75f3b7",
   "metadata": {},
   "outputs": [],
   "source": [
    "missing_value = [\"N/a\",\"na\",np.nan]\n",
    "df=pd.read_csv(\"train_har.csv\",na_values=missing_value)"
   ]
  },
  {
   "cell_type": "code",
   "execution_count": 7,
   "id": "1e97923b",
   "metadata": {},
   "outputs": [
    {
     "data": {
      "text/html": [
       "<div>\n",
       "<style scoped>\n",
       "    .dataframe tbody tr th:only-of-type {\n",
       "        vertical-align: middle;\n",
       "    }\n",
       "\n",
       "    .dataframe tbody tr th {\n",
       "        vertical-align: top;\n",
       "    }\n",
       "\n",
       "    .dataframe thead th {\n",
       "        text-align: right;\n",
       "    }\n",
       "</style>\n",
       "<table border=\"1\" class=\"dataframe\">\n",
       "  <thead>\n",
       "    <tr style=\"text-align: right;\">\n",
       "      <th></th>\n",
       "      <th>tBodyAcc-mean()-X</th>\n",
       "      <th>tBodyAcc-mean()-Y</th>\n",
       "      <th>tBodyAcc-mean()-Z</th>\n",
       "      <th>tBodyAcc-std()-X</th>\n",
       "      <th>tBodyAcc-std()-Y</th>\n",
       "      <th>tBodyAcc-std()-Z</th>\n",
       "      <th>tBodyAcc-mad()-X</th>\n",
       "      <th>tBodyAcc-mad()-Y</th>\n",
       "      <th>tBodyAcc-mad()-Z</th>\n",
       "      <th>tBodyAcc-max()-X</th>\n",
       "      <th>...</th>\n",
       "      <th>fBodyBodyGyroJerkMag-kurtosis()</th>\n",
       "      <th>angle(tBodyAccMean,gravity)</th>\n",
       "      <th>angle(tBodyAccJerkMean),gravityMean)</th>\n",
       "      <th>angle(tBodyGyroMean,gravityMean)</th>\n",
       "      <th>angle(tBodyGyroJerkMean,gravityMean)</th>\n",
       "      <th>angle(X,gravityMean)</th>\n",
       "      <th>angle(Y,gravityMean)</th>\n",
       "      <th>angle(Z,gravityMean)</th>\n",
       "      <th>subject</th>\n",
       "      <th>Activity</th>\n",
       "    </tr>\n",
       "  </thead>\n",
       "  <tbody>\n",
       "    <tr>\n",
       "      <th>0</th>\n",
       "      <td>False</td>\n",
       "      <td>False</td>\n",
       "      <td>False</td>\n",
       "      <td>False</td>\n",
       "      <td>False</td>\n",
       "      <td>False</td>\n",
       "      <td>False</td>\n",
       "      <td>False</td>\n",
       "      <td>False</td>\n",
       "      <td>False</td>\n",
       "      <td>...</td>\n",
       "      <td>False</td>\n",
       "      <td>False</td>\n",
       "      <td>False</td>\n",
       "      <td>False</td>\n",
       "      <td>False</td>\n",
       "      <td>False</td>\n",
       "      <td>False</td>\n",
       "      <td>False</td>\n",
       "      <td>False</td>\n",
       "      <td>False</td>\n",
       "    </tr>\n",
       "    <tr>\n",
       "      <th>1</th>\n",
       "      <td>False</td>\n",
       "      <td>False</td>\n",
       "      <td>False</td>\n",
       "      <td>False</td>\n",
       "      <td>False</td>\n",
       "      <td>False</td>\n",
       "      <td>False</td>\n",
       "      <td>False</td>\n",
       "      <td>False</td>\n",
       "      <td>False</td>\n",
       "      <td>...</td>\n",
       "      <td>False</td>\n",
       "      <td>False</td>\n",
       "      <td>False</td>\n",
       "      <td>False</td>\n",
       "      <td>False</td>\n",
       "      <td>False</td>\n",
       "      <td>False</td>\n",
       "      <td>False</td>\n",
       "      <td>False</td>\n",
       "      <td>False</td>\n",
       "    </tr>\n",
       "    <tr>\n",
       "      <th>2</th>\n",
       "      <td>False</td>\n",
       "      <td>False</td>\n",
       "      <td>False</td>\n",
       "      <td>False</td>\n",
       "      <td>False</td>\n",
       "      <td>False</td>\n",
       "      <td>False</td>\n",
       "      <td>False</td>\n",
       "      <td>False</td>\n",
       "      <td>False</td>\n",
       "      <td>...</td>\n",
       "      <td>False</td>\n",
       "      <td>False</td>\n",
       "      <td>False</td>\n",
       "      <td>False</td>\n",
       "      <td>False</td>\n",
       "      <td>False</td>\n",
       "      <td>False</td>\n",
       "      <td>False</td>\n",
       "      <td>False</td>\n",
       "      <td>False</td>\n",
       "    </tr>\n",
       "    <tr>\n",
       "      <th>3</th>\n",
       "      <td>False</td>\n",
       "      <td>False</td>\n",
       "      <td>False</td>\n",
       "      <td>False</td>\n",
       "      <td>False</td>\n",
       "      <td>False</td>\n",
       "      <td>False</td>\n",
       "      <td>False</td>\n",
       "      <td>False</td>\n",
       "      <td>False</td>\n",
       "      <td>...</td>\n",
       "      <td>False</td>\n",
       "      <td>False</td>\n",
       "      <td>False</td>\n",
       "      <td>False</td>\n",
       "      <td>False</td>\n",
       "      <td>False</td>\n",
       "      <td>False</td>\n",
       "      <td>False</td>\n",
       "      <td>False</td>\n",
       "      <td>False</td>\n",
       "    </tr>\n",
       "    <tr>\n",
       "      <th>4</th>\n",
       "      <td>False</td>\n",
       "      <td>False</td>\n",
       "      <td>False</td>\n",
       "      <td>False</td>\n",
       "      <td>False</td>\n",
       "      <td>False</td>\n",
       "      <td>False</td>\n",
       "      <td>False</td>\n",
       "      <td>False</td>\n",
       "      <td>False</td>\n",
       "      <td>...</td>\n",
       "      <td>False</td>\n",
       "      <td>False</td>\n",
       "      <td>False</td>\n",
       "      <td>False</td>\n",
       "      <td>False</td>\n",
       "      <td>False</td>\n",
       "      <td>False</td>\n",
       "      <td>False</td>\n",
       "      <td>False</td>\n",
       "      <td>False</td>\n",
       "    </tr>\n",
       "    <tr>\n",
       "      <th>...</th>\n",
       "      <td>...</td>\n",
       "      <td>...</td>\n",
       "      <td>...</td>\n",
       "      <td>...</td>\n",
       "      <td>...</td>\n",
       "      <td>...</td>\n",
       "      <td>...</td>\n",
       "      <td>...</td>\n",
       "      <td>...</td>\n",
       "      <td>...</td>\n",
       "      <td>...</td>\n",
       "      <td>...</td>\n",
       "      <td>...</td>\n",
       "      <td>...</td>\n",
       "      <td>...</td>\n",
       "      <td>...</td>\n",
       "      <td>...</td>\n",
       "      <td>...</td>\n",
       "      <td>...</td>\n",
       "      <td>...</td>\n",
       "      <td>...</td>\n",
       "    </tr>\n",
       "    <tr>\n",
       "      <th>7347</th>\n",
       "      <td>False</td>\n",
       "      <td>False</td>\n",
       "      <td>False</td>\n",
       "      <td>False</td>\n",
       "      <td>False</td>\n",
       "      <td>False</td>\n",
       "      <td>False</td>\n",
       "      <td>False</td>\n",
       "      <td>False</td>\n",
       "      <td>False</td>\n",
       "      <td>...</td>\n",
       "      <td>False</td>\n",
       "      <td>False</td>\n",
       "      <td>False</td>\n",
       "      <td>False</td>\n",
       "      <td>False</td>\n",
       "      <td>False</td>\n",
       "      <td>False</td>\n",
       "      <td>False</td>\n",
       "      <td>False</td>\n",
       "      <td>False</td>\n",
       "    </tr>\n",
       "    <tr>\n",
       "      <th>7348</th>\n",
       "      <td>False</td>\n",
       "      <td>False</td>\n",
       "      <td>False</td>\n",
       "      <td>False</td>\n",
       "      <td>False</td>\n",
       "      <td>False</td>\n",
       "      <td>False</td>\n",
       "      <td>False</td>\n",
       "      <td>False</td>\n",
       "      <td>False</td>\n",
       "      <td>...</td>\n",
       "      <td>False</td>\n",
       "      <td>False</td>\n",
       "      <td>False</td>\n",
       "      <td>False</td>\n",
       "      <td>False</td>\n",
       "      <td>False</td>\n",
       "      <td>False</td>\n",
       "      <td>False</td>\n",
       "      <td>False</td>\n",
       "      <td>False</td>\n",
       "    </tr>\n",
       "    <tr>\n",
       "      <th>7349</th>\n",
       "      <td>False</td>\n",
       "      <td>False</td>\n",
       "      <td>False</td>\n",
       "      <td>False</td>\n",
       "      <td>False</td>\n",
       "      <td>False</td>\n",
       "      <td>False</td>\n",
       "      <td>False</td>\n",
       "      <td>False</td>\n",
       "      <td>False</td>\n",
       "      <td>...</td>\n",
       "      <td>False</td>\n",
       "      <td>False</td>\n",
       "      <td>False</td>\n",
       "      <td>False</td>\n",
       "      <td>False</td>\n",
       "      <td>False</td>\n",
       "      <td>False</td>\n",
       "      <td>False</td>\n",
       "      <td>False</td>\n",
       "      <td>False</td>\n",
       "    </tr>\n",
       "    <tr>\n",
       "      <th>7350</th>\n",
       "      <td>False</td>\n",
       "      <td>False</td>\n",
       "      <td>False</td>\n",
       "      <td>False</td>\n",
       "      <td>False</td>\n",
       "      <td>False</td>\n",
       "      <td>False</td>\n",
       "      <td>False</td>\n",
       "      <td>False</td>\n",
       "      <td>False</td>\n",
       "      <td>...</td>\n",
       "      <td>False</td>\n",
       "      <td>False</td>\n",
       "      <td>False</td>\n",
       "      <td>False</td>\n",
       "      <td>False</td>\n",
       "      <td>False</td>\n",
       "      <td>False</td>\n",
       "      <td>False</td>\n",
       "      <td>False</td>\n",
       "      <td>False</td>\n",
       "    </tr>\n",
       "    <tr>\n",
       "      <th>7351</th>\n",
       "      <td>False</td>\n",
       "      <td>False</td>\n",
       "      <td>False</td>\n",
       "      <td>False</td>\n",
       "      <td>False</td>\n",
       "      <td>False</td>\n",
       "      <td>False</td>\n",
       "      <td>False</td>\n",
       "      <td>False</td>\n",
       "      <td>False</td>\n",
       "      <td>...</td>\n",
       "      <td>False</td>\n",
       "      <td>False</td>\n",
       "      <td>False</td>\n",
       "      <td>False</td>\n",
       "      <td>False</td>\n",
       "      <td>False</td>\n",
       "      <td>False</td>\n",
       "      <td>False</td>\n",
       "      <td>False</td>\n",
       "      <td>False</td>\n",
       "    </tr>\n",
       "  </tbody>\n",
       "</table>\n",
       "<p>7352 rows × 563 columns</p>\n",
       "</div>"
      ],
      "text/plain": [
       "      tBodyAcc-mean()-X  tBodyAcc-mean()-Y  tBodyAcc-mean()-Z  \\\n",
       "0                 False              False              False   \n",
       "1                 False              False              False   \n",
       "2                 False              False              False   \n",
       "3                 False              False              False   \n",
       "4                 False              False              False   \n",
       "...                 ...                ...                ...   \n",
       "7347              False              False              False   \n",
       "7348              False              False              False   \n",
       "7349              False              False              False   \n",
       "7350              False              False              False   \n",
       "7351              False              False              False   \n",
       "\n",
       "      tBodyAcc-std()-X  tBodyAcc-std()-Y  tBodyAcc-std()-Z  tBodyAcc-mad()-X  \\\n",
       "0                False             False             False             False   \n",
       "1                False             False             False             False   \n",
       "2                False             False             False             False   \n",
       "3                False             False             False             False   \n",
       "4                False             False             False             False   \n",
       "...                ...               ...               ...               ...   \n",
       "7347             False             False             False             False   \n",
       "7348             False             False             False             False   \n",
       "7349             False             False             False             False   \n",
       "7350             False             False             False             False   \n",
       "7351             False             False             False             False   \n",
       "\n",
       "      tBodyAcc-mad()-Y  tBodyAcc-mad()-Z  tBodyAcc-max()-X  ...  \\\n",
       "0                False             False             False  ...   \n",
       "1                False             False             False  ...   \n",
       "2                False             False             False  ...   \n",
       "3                False             False             False  ...   \n",
       "4                False             False             False  ...   \n",
       "...                ...               ...               ...  ...   \n",
       "7347             False             False             False  ...   \n",
       "7348             False             False             False  ...   \n",
       "7349             False             False             False  ...   \n",
       "7350             False             False             False  ...   \n",
       "7351             False             False             False  ...   \n",
       "\n",
       "      fBodyBodyGyroJerkMag-kurtosis()  angle(tBodyAccMean,gravity)  \\\n",
       "0                               False                        False   \n",
       "1                               False                        False   \n",
       "2                               False                        False   \n",
       "3                               False                        False   \n",
       "4                               False                        False   \n",
       "...                               ...                          ...   \n",
       "7347                            False                        False   \n",
       "7348                            False                        False   \n",
       "7349                            False                        False   \n",
       "7350                            False                        False   \n",
       "7351                            False                        False   \n",
       "\n",
       "      angle(tBodyAccJerkMean),gravityMean)  angle(tBodyGyroMean,gravityMean)  \\\n",
       "0                                    False                             False   \n",
       "1                                    False                             False   \n",
       "2                                    False                             False   \n",
       "3                                    False                             False   \n",
       "4                                    False                             False   \n",
       "...                                    ...                               ...   \n",
       "7347                                 False                             False   \n",
       "7348                                 False                             False   \n",
       "7349                                 False                             False   \n",
       "7350                                 False                             False   \n",
       "7351                                 False                             False   \n",
       "\n",
       "      angle(tBodyGyroJerkMean,gravityMean)  angle(X,gravityMean)  \\\n",
       "0                                    False                 False   \n",
       "1                                    False                 False   \n",
       "2                                    False                 False   \n",
       "3                                    False                 False   \n",
       "4                                    False                 False   \n",
       "...                                    ...                   ...   \n",
       "7347                                 False                 False   \n",
       "7348                                 False                 False   \n",
       "7349                                 False                 False   \n",
       "7350                                 False                 False   \n",
       "7351                                 False                 False   \n",
       "\n",
       "      angle(Y,gravityMean)  angle(Z,gravityMean)  subject  Activity  \n",
       "0                    False                 False    False     False  \n",
       "1                    False                 False    False     False  \n",
       "2                    False                 False    False     False  \n",
       "3                    False                 False    False     False  \n",
       "4                    False                 False    False     False  \n",
       "...                    ...                   ...      ...       ...  \n",
       "7347                 False                 False    False     False  \n",
       "7348                 False                 False    False     False  \n",
       "7349                 False                 False    False     False  \n",
       "7350                 False                 False    False     False  \n",
       "7351                 False                 False    False     False  \n",
       "\n",
       "[7352 rows x 563 columns]"
      ]
     },
     "execution_count": 7,
     "metadata": {},
     "output_type": "execute_result"
    }
   ],
   "source": [
    "df.isnull()"
   ]
  },
  {
   "cell_type": "code",
   "execution_count": 8,
   "id": "1dfd768f",
   "metadata": {},
   "outputs": [
    {
     "data": {
      "text/plain": [
       "tBodyAcc-mean()-X       0\n",
       "tBodyAcc-mean()-Y       0\n",
       "tBodyAcc-mean()-Z       0\n",
       "tBodyAcc-std()-X        0\n",
       "tBodyAcc-std()-Y        0\n",
       "                       ..\n",
       "angle(X,gravityMean)    0\n",
       "angle(Y,gravityMean)    0\n",
       "angle(Z,gravityMean)    0\n",
       "subject                 0\n",
       "Activity                0\n",
       "Length: 563, dtype: int64"
      ]
     },
     "execution_count": 8,
     "metadata": {},
     "output_type": "execute_result"
    }
   ],
   "source": [
    "df.isnull().sum()"
   ]
  },
  {
   "cell_type": "code",
   "execution_count": 5,
   "id": "ed37b70d",
   "metadata": {},
   "outputs": [
    {
     "data": {
      "text/plain": [
       "<AxesSubplot:>"
      ]
     },
     "execution_count": 5,
     "metadata": {},
     "output_type": "execute_result"
    },
    {
     "data": {
      "image/png": "[encoded data removed]",
      "text/plain": [
       "<Figure size 432x288 with 2 Axes>"
      ]
     },
     "metadata": {
      "needs_background": "light"
     },
     "output_type": "display_data"
    }
   ],
   "source": [
    "sns.heatmap(df.isnull(),yticklabels=\"False\",cmap='viridis')"
   ]
  },
  {
   "cell_type": "markdown",
   "id": "19ff32e5",
   "metadata": {},
   "source": [
    "### No null values present in the data"
   ]
  },
  {
   "cell_type": "code",
   "execution_count": null,
   "id": "7b5c46d8",
   "metadata": {},
   "outputs": [],
   "source": []
  },
  {
   "cell_type": "code",
   "execution_count": 11,
   "id": "ae6cc101",
   "metadata": {},
   "outputs": [
    {
     "data": {
      "text/html": [
       "<div>\n",
       "<style scoped>\n",
       "    .dataframe tbody tr th:only-of-type {\n",
       "        vertical-align: middle;\n",
       "    }\n",
       "\n",
       "    .dataframe tbody tr th {\n",
       "        vertical-align: top;\n",
       "    }\n",
       "\n",
       "    .dataframe thead th {\n",
       "        text-align: right;\n",
       "    }\n",
       "</style>\n",
       "<table border=\"1\" class=\"dataframe\">\n",
       "  <thead>\n",
       "    <tr style=\"text-align: right;\">\n",
       "      <th></th>\n",
       "      <th>tBodyAcc-mean()-X</th>\n",
       "      <th>tBodyAcc-mean()-Y</th>\n",
       "      <th>tBodyAcc-mean()-Z</th>\n",
       "      <th>tBodyAcc-std()-X</th>\n",
       "      <th>tBodyAcc-std()-Y</th>\n",
       "      <th>tBodyAcc-std()-Z</th>\n",
       "      <th>tBodyAcc-mad()-X</th>\n",
       "      <th>tBodyAcc-mad()-Y</th>\n",
       "      <th>tBodyAcc-mad()-Z</th>\n",
       "      <th>tBodyAcc-max()-X</th>\n",
       "      <th>...</th>\n",
       "      <th>fBodyBodyGyroJerkMag-kurtosis()</th>\n",
       "      <th>angle(tBodyAccMean,gravity)</th>\n",
       "      <th>angle(tBodyAccJerkMean),gravityMean)</th>\n",
       "      <th>angle(tBodyGyroMean,gravityMean)</th>\n",
       "      <th>angle(tBodyGyroJerkMean,gravityMean)</th>\n",
       "      <th>angle(X,gravityMean)</th>\n",
       "      <th>angle(Y,gravityMean)</th>\n",
       "      <th>angle(Z,gravityMean)</th>\n",
       "      <th>subject</th>\n",
       "      <th>Activity</th>\n",
       "    </tr>\n",
       "  </thead>\n",
       "  <tbody>\n",
       "    <tr>\n",
       "      <th>0</th>\n",
       "      <td>0.288585</td>\n",
       "      <td>-0.020294</td>\n",
       "      <td>-0.132905</td>\n",
       "      <td>-0.995279</td>\n",
       "      <td>-0.983111</td>\n",
       "      <td>-0.913526</td>\n",
       "      <td>-0.995112</td>\n",
       "      <td>-0.983185</td>\n",
       "      <td>-0.923527</td>\n",
       "      <td>-0.934724</td>\n",
       "      <td>...</td>\n",
       "      <td>-0.710304</td>\n",
       "      <td>-0.112754</td>\n",
       "      <td>0.030400</td>\n",
       "      <td>-0.464761</td>\n",
       "      <td>-0.018446</td>\n",
       "      <td>-0.841247</td>\n",
       "      <td>0.179941</td>\n",
       "      <td>-0.058627</td>\n",
       "      <td>1</td>\n",
       "      <td>STANDING</td>\n",
       "    </tr>\n",
       "    <tr>\n",
       "      <th>1</th>\n",
       "      <td>0.278419</td>\n",
       "      <td>-0.016411</td>\n",
       "      <td>-0.123520</td>\n",
       "      <td>-0.998245</td>\n",
       "      <td>-0.975300</td>\n",
       "      <td>-0.960322</td>\n",
       "      <td>-0.998807</td>\n",
       "      <td>-0.974914</td>\n",
       "      <td>-0.957686</td>\n",
       "      <td>-0.943068</td>\n",
       "      <td>...</td>\n",
       "      <td>-0.861499</td>\n",
       "      <td>0.053477</td>\n",
       "      <td>-0.007435</td>\n",
       "      <td>-0.732626</td>\n",
       "      <td>0.703511</td>\n",
       "      <td>-0.844788</td>\n",
       "      <td>0.180289</td>\n",
       "      <td>-0.054317</td>\n",
       "      <td>1</td>\n",
       "      <td>STANDING</td>\n",
       "    </tr>\n",
       "    <tr>\n",
       "      <th>2</th>\n",
       "      <td>0.279653</td>\n",
       "      <td>-0.019467</td>\n",
       "      <td>-0.113462</td>\n",
       "      <td>-0.995380</td>\n",
       "      <td>-0.967187</td>\n",
       "      <td>-0.978944</td>\n",
       "      <td>-0.996520</td>\n",
       "      <td>-0.963668</td>\n",
       "      <td>-0.977469</td>\n",
       "      <td>-0.938692</td>\n",
       "      <td>...</td>\n",
       "      <td>-0.760104</td>\n",
       "      <td>-0.118559</td>\n",
       "      <td>0.177899</td>\n",
       "      <td>0.100699</td>\n",
       "      <td>0.808529</td>\n",
       "      <td>-0.848933</td>\n",
       "      <td>0.180637</td>\n",
       "      <td>-0.049118</td>\n",
       "      <td>1</td>\n",
       "      <td>STANDING</td>\n",
       "    </tr>\n",
       "    <tr>\n",
       "      <th>3</th>\n",
       "      <td>0.279174</td>\n",
       "      <td>-0.026201</td>\n",
       "      <td>-0.123283</td>\n",
       "      <td>-0.996091</td>\n",
       "      <td>-0.983403</td>\n",
       "      <td>-0.990675</td>\n",
       "      <td>-0.997099</td>\n",
       "      <td>-0.982750</td>\n",
       "      <td>-0.989302</td>\n",
       "      <td>-0.938692</td>\n",
       "      <td>...</td>\n",
       "      <td>-0.482845</td>\n",
       "      <td>-0.036788</td>\n",
       "      <td>-0.012892</td>\n",
       "      <td>0.640011</td>\n",
       "      <td>-0.485366</td>\n",
       "      <td>-0.848649</td>\n",
       "      <td>0.181935</td>\n",
       "      <td>-0.047663</td>\n",
       "      <td>1</td>\n",
       "      <td>STANDING</td>\n",
       "    </tr>\n",
       "    <tr>\n",
       "      <th>4</th>\n",
       "      <td>0.276629</td>\n",
       "      <td>-0.016570</td>\n",
       "      <td>-0.115362</td>\n",
       "      <td>-0.998139</td>\n",
       "      <td>-0.980817</td>\n",
       "      <td>-0.990482</td>\n",
       "      <td>-0.998321</td>\n",
       "      <td>-0.979672</td>\n",
       "      <td>-0.990441</td>\n",
       "      <td>-0.942469</td>\n",
       "      <td>...</td>\n",
       "      <td>-0.699205</td>\n",
       "      <td>0.123320</td>\n",
       "      <td>0.122542</td>\n",
       "      <td>0.693578</td>\n",
       "      <td>-0.615971</td>\n",
       "      <td>-0.847865</td>\n",
       "      <td>0.185151</td>\n",
       "      <td>-0.043892</td>\n",
       "      <td>1</td>\n",
       "      <td>STANDING</td>\n",
       "    </tr>\n",
       "  </tbody>\n",
       "</table>\n",
       "<p>5 rows × 563 columns</p>\n",
       "</div>"
      ],
      "text/plain": [
       "   tBodyAcc-mean()-X  tBodyAcc-mean()-Y  tBodyAcc-mean()-Z  tBodyAcc-std()-X  \\\n",
       "0           0.288585          -0.020294          -0.132905         -0.995279   \n",
       "1           0.278419          -0.016411          -0.123520         -0.998245   \n",
       "2           0.279653          -0.019467          -0.113462         -0.995380   \n",
       "3           0.279174          -0.026201          -0.123283         -0.996091   \n",
       "4           0.276629          -0.016570          -0.115362         -0.998139   \n",
       "\n",
       "   tBodyAcc-std()-Y  tBodyAcc-std()-Z  tBodyAcc-mad()-X  tBodyAcc-mad()-Y  \\\n",
       "0         -0.983111         -0.913526         -0.995112         -0.983185   \n",
       "1         -0.975300         -0.960322         -0.998807         -0.974914   \n",
       "2         -0.967187         -0.978944         -0.996520         -0.963668   \n",
       "3         -0.983403         -0.990675         -0.997099         -0.982750   \n",
       "4         -0.980817         -0.990482         -0.998321         -0.979672   \n",
       "\n",
       "   tBodyAcc-mad()-Z  tBodyAcc-max()-X  ...  fBodyBodyGyroJerkMag-kurtosis()  \\\n",
       "0         -0.923527         -0.934724  ...                        -0.710304   \n",
       "1         -0.957686         -0.943068  ...                        -0.861499   \n",
       "2         -0.977469         -0.938692  ...                        -0.760104   \n",
       "3         -0.989302         -0.938692  ...                        -0.482845   \n",
       "4         -0.990441         -0.942469  ...                        -0.699205   \n",
       "\n",
       "   angle(tBodyAccMean,gravity)  angle(tBodyAccJerkMean),gravityMean)  \\\n",
       "0                    -0.112754                              0.030400   \n",
       "1                     0.053477                             -0.007435   \n",
       "2                    -0.118559                              0.177899   \n",
       "3                    -0.036788                             -0.012892   \n",
       "4                     0.123320                              0.122542   \n",
       "\n",
       "   angle(tBodyGyroMean,gravityMean)  angle(tBodyGyroJerkMean,gravityMean)  \\\n",
       "0                         -0.464761                             -0.018446   \n",
       "1                         -0.732626                              0.703511   \n",
       "2                          0.100699                              0.808529   \n",
       "3                          0.640011                             -0.485366   \n",
       "4                          0.693578                             -0.615971   \n",
       "\n",
       "   angle(X,gravityMean)  angle(Y,gravityMean)  angle(Z,gravityMean)  subject  \\\n",
       "0             -0.841247              0.179941             -0.058627        1   \n",
       "1             -0.844788              0.180289             -0.054317        1   \n",
       "2             -0.848933              0.180637             -0.049118        1   \n",
       "3             -0.848649              0.181935             -0.047663        1   \n",
       "4             -0.847865              0.185151             -0.043892        1   \n",
       "\n",
       "   Activity  \n",
       "0  STANDING  \n",
       "1  STANDING  \n",
       "2  STANDING  \n",
       "3  STANDING  \n",
       "4  STANDING  \n",
       "\n",
       "[5 rows x 563 columns]"
      ]
     },
     "execution_count": 11,
     "metadata": {},
     "output_type": "execute_result"
    }
   ],
   "source": [
    "df.head()"
   ]
  },
  {
   "cell_type": "code",
   "execution_count": 12,
   "id": "6529e6e0",
   "metadata": {},
   "outputs": [
    {
     "data": {
      "text/html": [
       "<div>\n",
       "<style scoped>\n",
       "    .dataframe tbody tr th:only-of-type {\n",
       "        vertical-align: middle;\n",
       "    }\n",
       "\n",
       "    .dataframe tbody tr th {\n",
       "        vertical-align: top;\n",
       "    }\n",
       "\n",
       "    .dataframe thead th {\n",
       "        text-align: right;\n",
       "    }\n",
       "</style>\n",
       "<table border=\"1\" class=\"dataframe\">\n",
       "  <thead>\n",
       "    <tr style=\"text-align: right;\">\n",
       "      <th></th>\n",
       "      <th>tBodyAcc-mean()-X</th>\n",
       "      <th>tBodyAcc-mean()-Y</th>\n",
       "      <th>tBodyAcc-mean()-Z</th>\n",
       "      <th>tBodyAcc-std()-X</th>\n",
       "      <th>tBodyAcc-std()-Y</th>\n",
       "      <th>tBodyAcc-std()-Z</th>\n",
       "      <th>tBodyAcc-mad()-X</th>\n",
       "      <th>tBodyAcc-mad()-Y</th>\n",
       "      <th>tBodyAcc-mad()-Z</th>\n",
       "      <th>tBodyAcc-max()-X</th>\n",
       "      <th>...</th>\n",
       "      <th>fBodyBodyGyroJerkMag-kurtosis()</th>\n",
       "      <th>angle(tBodyAccMean,gravity)</th>\n",
       "      <th>angle(tBodyAccJerkMean),gravityMean)</th>\n",
       "      <th>angle(tBodyGyroMean,gravityMean)</th>\n",
       "      <th>angle(tBodyGyroJerkMean,gravityMean)</th>\n",
       "      <th>angle(X,gravityMean)</th>\n",
       "      <th>angle(Y,gravityMean)</th>\n",
       "      <th>angle(Z,gravityMean)</th>\n",
       "      <th>subject</th>\n",
       "      <th>Activity</th>\n",
       "    </tr>\n",
       "  </thead>\n",
       "  <tbody>\n",
       "    <tr>\n",
       "      <th>7347</th>\n",
       "      <td>0.299665</td>\n",
       "      <td>-0.057193</td>\n",
       "      <td>-0.181233</td>\n",
       "      <td>-0.195387</td>\n",
       "      <td>0.039905</td>\n",
       "      <td>0.077078</td>\n",
       "      <td>-0.282301</td>\n",
       "      <td>0.043616</td>\n",
       "      <td>0.060410</td>\n",
       "      <td>0.210795</td>\n",
       "      <td>...</td>\n",
       "      <td>-0.880324</td>\n",
       "      <td>-0.190437</td>\n",
       "      <td>0.829718</td>\n",
       "      <td>0.206972</td>\n",
       "      <td>-0.425619</td>\n",
       "      <td>-0.791883</td>\n",
       "      <td>0.238604</td>\n",
       "      <td>0.049819</td>\n",
       "      <td>30</td>\n",
       "      <td>WALKING_UPSTAIRS</td>\n",
       "    </tr>\n",
       "    <tr>\n",
       "      <th>7348</th>\n",
       "      <td>0.273853</td>\n",
       "      <td>-0.007749</td>\n",
       "      <td>-0.147468</td>\n",
       "      <td>-0.235309</td>\n",
       "      <td>0.004816</td>\n",
       "      <td>0.059280</td>\n",
       "      <td>-0.322552</td>\n",
       "      <td>-0.029456</td>\n",
       "      <td>0.080585</td>\n",
       "      <td>0.117440</td>\n",
       "      <td>...</td>\n",
       "      <td>-0.680744</td>\n",
       "      <td>0.064907</td>\n",
       "      <td>0.875679</td>\n",
       "      <td>-0.879033</td>\n",
       "      <td>0.400219</td>\n",
       "      <td>-0.771840</td>\n",
       "      <td>0.252676</td>\n",
       "      <td>0.050053</td>\n",
       "      <td>30</td>\n",
       "      <td>WALKING_UPSTAIRS</td>\n",
       "    </tr>\n",
       "    <tr>\n",
       "      <th>7349</th>\n",
       "      <td>0.273387</td>\n",
       "      <td>-0.017011</td>\n",
       "      <td>-0.045022</td>\n",
       "      <td>-0.218218</td>\n",
       "      <td>-0.103822</td>\n",
       "      <td>0.274533</td>\n",
       "      <td>-0.304515</td>\n",
       "      <td>-0.098913</td>\n",
       "      <td>0.332584</td>\n",
       "      <td>0.043999</td>\n",
       "      <td>...</td>\n",
       "      <td>-0.304029</td>\n",
       "      <td>0.052806</td>\n",
       "      <td>-0.266724</td>\n",
       "      <td>0.864404</td>\n",
       "      <td>0.701169</td>\n",
       "      <td>-0.779133</td>\n",
       "      <td>0.249145</td>\n",
       "      <td>0.040811</td>\n",
       "      <td>30</td>\n",
       "      <td>WALKING_UPSTAIRS</td>\n",
       "    </tr>\n",
       "    <tr>\n",
       "      <th>7350</th>\n",
       "      <td>0.289654</td>\n",
       "      <td>-0.018843</td>\n",
       "      <td>-0.158281</td>\n",
       "      <td>-0.219139</td>\n",
       "      <td>-0.111412</td>\n",
       "      <td>0.268893</td>\n",
       "      <td>-0.310487</td>\n",
       "      <td>-0.068200</td>\n",
       "      <td>0.319473</td>\n",
       "      <td>0.101702</td>\n",
       "      <td>...</td>\n",
       "      <td>-0.344314</td>\n",
       "      <td>-0.101360</td>\n",
       "      <td>0.700740</td>\n",
       "      <td>0.936674</td>\n",
       "      <td>-0.589479</td>\n",
       "      <td>-0.785181</td>\n",
       "      <td>0.246432</td>\n",
       "      <td>0.025339</td>\n",
       "      <td>30</td>\n",
       "      <td>WALKING_UPSTAIRS</td>\n",
       "    </tr>\n",
       "    <tr>\n",
       "      <th>7351</th>\n",
       "      <td>0.351503</td>\n",
       "      <td>-0.012423</td>\n",
       "      <td>-0.203867</td>\n",
       "      <td>-0.269270</td>\n",
       "      <td>-0.087212</td>\n",
       "      <td>0.177404</td>\n",
       "      <td>-0.377404</td>\n",
       "      <td>-0.038678</td>\n",
       "      <td>0.229430</td>\n",
       "      <td>0.269013</td>\n",
       "      <td>...</td>\n",
       "      <td>-0.740738</td>\n",
       "      <td>-0.280088</td>\n",
       "      <td>-0.007739</td>\n",
       "      <td>-0.056088</td>\n",
       "      <td>-0.616956</td>\n",
       "      <td>-0.783267</td>\n",
       "      <td>0.246809</td>\n",
       "      <td>0.036695</td>\n",
       "      <td>30</td>\n",
       "      <td>WALKING_UPSTAIRS</td>\n",
       "    </tr>\n",
       "  </tbody>\n",
       "</table>\n",
       "<p>5 rows × 563 columns</p>\n",
       "</div>"
      ],
      "text/plain": [
       "      tBodyAcc-mean()-X  tBodyAcc-mean()-Y  tBodyAcc-mean()-Z  \\\n",
       "7347           0.299665          -0.057193          -0.181233   \n",
       "7348           0.273853          -0.007749          -0.147468   \n",
       "7349           0.273387          -0.017011          -0.045022   \n",
       "7350           0.289654          -0.018843          -0.158281   \n",
       "7351           0.351503          -0.012423          -0.203867   \n",
       "\n",
       "      tBodyAcc-std()-X  tBodyAcc-std()-Y  tBodyAcc-std()-Z  tBodyAcc-mad()-X  \\\n",
       "7347         -0.195387          0.039905          0.077078         -0.282301   \n",
       "7348         -0.235309          0.004816          0.059280         -0.322552   \n",
       "7349         -0.218218         -0.103822          0.274533         -0.304515   \n",
       "7350         -0.219139         -0.111412          0.268893         -0.310487   \n",
       "7351         -0.269270         -0.087212          0.177404         -0.377404   \n",
       "\n",
       "      tBodyAcc-mad()-Y  tBodyAcc-mad()-Z  tBodyAcc-max()-X  ...  \\\n",
       "7347          0.043616          0.060410          0.210795  ...   \n",
       "7348         -0.029456          0.080585          0.117440  ...   \n",
       "7349         -0.098913          0.332584          0.043999  ...   \n",
       "7350         -0.068200          0.319473          0.101702  ...   \n",
       "7351         -0.038678          0.229430          0.269013  ...   \n",
       "\n",
       "      fBodyBodyGyroJerkMag-kurtosis()  angle(tBodyAccMean,gravity)  \\\n",
       "7347                        -0.880324                    -0.190437   \n",
       "7348                        -0.680744                     0.064907   \n",
       "7349                        -0.304029                     0.052806   \n",
       "7350                        -0.344314                    -0.101360   \n",
       "7351                        -0.740738                    -0.280088   \n",
       "\n",
       "      angle(tBodyAccJerkMean),gravityMean)  angle(tBodyGyroMean,gravityMean)  \\\n",
       "7347                              0.829718                          0.206972   \n",
       "7348                              0.875679                         -0.879033   \n",
       "7349                             -0.266724                          0.864404   \n",
       "7350                              0.700740                          0.936674   \n",
       "7351                             -0.007739                         -0.056088   \n",
       "\n",
       "      angle(tBodyGyroJerkMean,gravityMean)  angle(X,gravityMean)  \\\n",
       "7347                             -0.425619             -0.791883   \n",
       "7348                              0.400219             -0.771840   \n",
       "7349                              0.701169             -0.779133   \n",
       "7350                             -0.589479             -0.785181   \n",
       "7351                             -0.616956             -0.783267   \n",
       "\n",
       "      angle(Y,gravityMean)  angle(Z,gravityMean)  subject          Activity  \n",
       "7347              0.238604              0.049819       30  WALKING_UPSTAIRS  \n",
       "7348              0.252676              0.050053       30  WALKING_UPSTAIRS  \n",
       "7349              0.249145              0.040811       30  WALKING_UPSTAIRS  \n",
       "7350              0.246432              0.025339       30  WALKING_UPSTAIRS  \n",
       "7351              0.246809              0.036695       30  WALKING_UPSTAIRS  \n",
       "\n",
       "[5 rows x 563 columns]"
      ]
     },
     "execution_count": 12,
     "metadata": {},
     "output_type": "execute_result"
    }
   ],
   "source": [
    "df.tail()"
   ]
  },
  {
   "cell_type": "code",
   "execution_count": 14,
   "id": "bfc3c0a7",
   "metadata": {},
   "outputs": [
    {
     "data": {
      "text/plain": [
       "(7352, 563)"
      ]
     },
     "execution_count": 14,
     "metadata": {},
     "output_type": "execute_result"
    }
   ],
   "source": [
    "df.shape"
   ]
  },
  {
   "cell_type": "code",
   "execution_count": 6,
   "id": "ad8faf81",
   "metadata": {},
   "outputs": [
    {
     "name": "stdout",
     "output_type": "stream",
     "text": [
      "Number of duplicate entries in the dataset 0\n"
     ]
    }
   ],
   "source": [
    "#checking for duplicates\n",
    "\n",
    "print('Number of duplicate entries in the dataset {}'.format(sum(df.duplicated())))"
   ]
  },
  {
   "cell_type": "code",
   "execution_count": null,
   "id": "c1df7370",
   "metadata": {},
   "outputs": [],
   "source": []
  },
  {
   "cell_type": "code",
   "execution_count": null,
   "id": "660df3bb",
   "metadata": {},
   "outputs": [],
   "source": [
    "# Class distribution"
   ]
  },
  {
   "cell_type": "code",
   "execution_count": 16,
   "id": "79ec87cd",
   "metadata": {},
   "outputs": [
    {
     "data": {
      "text/plain": [
       "array(['STANDING', 'SITTING', 'LAYING', 'WALKING', 'WALKING_DOWNSTAIRS',\n",
       "       'WALKING_UPSTAIRS'], dtype=object)"
      ]
     },
     "execution_count": 16,
     "metadata": {},
     "output_type": "execute_result"
    }
   ],
   "source": [
    "df['Activity'].unique()"
   ]
  },
  {
   "cell_type": "code",
   "execution_count": null,
   "id": "7667e1bb",
   "metadata": {},
   "outputs": [],
   "source": []
  },
  {
   "cell_type": "markdown",
   "id": "91c3446d",
   "metadata": {},
   "source": [
    "## Now Visualize the class Distribution¶\n"
   ]
  },
  {
   "cell_type": "code",
   "execution_count": 4,
   "id": "d37630ca",
   "metadata": {},
   "outputs": [
    {
     "data": {
      "text/plain": [
       "[]"
      ]
     },
     "execution_count": 4,
     "metadata": {},
     "output_type": "execute_result"
    },
    {
     "data": {
      "image/png": "[encoded data removed]",
      "text/plain": [
       "<Figure size 1440x720 with 1 Axes>"
      ]
     },
     "metadata": {},
     "output_type": "display_data"
    }
   ],
   "source": [
    "# Plotting data with respect to subject\n",
    "sns.set_style('whitegrid')\n",
    "plt.figure(figsize=(20,10))\n",
    "plt.title('Observations per User', fontsize=20)\n",
    "sns.countplot(x='subject', hue='Activity', data=df)\n",
    "plt.plot()"
   ]
  },
  {
   "cell_type": "code",
   "execution_count": 15,
   "id": "6050202f",
   "metadata": {},
   "outputs": [
    {
     "data": {
      "image/png": "[encoded data removed]",
      "text/plain": [
       "<Figure size 864x432 with 1 Axes>"
      ]
     },
     "metadata": {},
     "output_type": "display_data"
    }
   ],
   "source": [
    "plt.figure(figsize=(12,6))\n",
    "axis=sns.countplot(x=\"Activity\",data=df)\n",
    "plt.xticks(x=df['Activity'],rotation='vertical')\n",
    "plt.show()"
   ]
  },
  {
   "cell_type": "code",
   "execution_count": null,
   "id": "7f771544",
   "metadata": {},
   "outputs": [],
   "source": []
  },
  {
   "cell_type": "markdown",
   "id": "4a5daee2",
   "metadata": {},
   "source": [
    "## Connecting Data visualization using power bi"
   ]
  },
  {
   "cell_type": "code",
   "execution_count": 1,
   "id": "515aea26",
   "metadata": {},
   "outputs": [
    {
     "data": {
      "text/html": [
       "\n",
       "        <iframe\n",
       "            width=\"1200\"\n",
       "            height=\"600\"\n",
       "            src=\"https://app.powerbi.com/reportEmbed?reportId=13c711a2-eb57-4fcb-9f44-63c2786d0449&autoAuth=true&ctid=6071e59a-0b4e-4894-b7ea-b4e51a072a6a&config=eyJjbHVzdGVyVXJsIjoiaHR0cHM6Ly93YWJpLWluZGlhLWNlbnRyYWwtYS1wcmltYXJ5LXJlZGlyZWN0LmFuYWx5c2lzLndpbmRvd3MubmV0LyJ9\"\n",
       "            frameborder=\"0\"\n",
       "            allowfullscreen\n",
       "            \n",
       "        ></iframe>\n",
       "        "
      ],
      "text/plain": [
       "<IPython.lib.display.IFrame at 0x1f0041a2e20>"
      ]
     },
     "execution_count": 1,
     "metadata": {},
     "output_type": "execute_result"
    }
   ],
   "source": [
    "from IPython.display import IFrame\n",
    "powerBiEmbed = 'https://app.powerbi.com/reportEmbed?reportId=13c711a2-eb57-4fcb-9f44-63c2786d0449&autoAuth=true&ctid=6071e59a-0b4e-4894-b7ea-b4e51a072a6a&config=eyJjbHVzdGVyVXJsIjoiaHR0cHM6Ly93YWJpLWluZGlhLWNlbnRyYWwtYS1wcmltYXJ5LXJlZGlyZWN0LmFuYWx5c2lzLndpbmRvd3MubmV0LyJ9'\n",
    "IFrame(powerBiEmbed, width=1200,height=600)"
   ]
  },
  {
   "cell_type": "code",
   "execution_count": null,
   "id": "8df25d92",
   "metadata": {},
   "outputs": [],
   "source": []
  },
  {
   "cell_type": "code",
   "execution_count": 8,
   "id": "a88c60fd",
   "metadata": {},
   "outputs": [
    {
     "data": {
      "text/plain": [
       "array([ 1,  3,  5,  6,  7,  8, 11, 14, 15, 16, 17, 19, 21, 22, 23, 25, 26,\n",
       "       27, 28, 29, 30], dtype=int64)"
      ]
     },
     "execution_count": 8,
     "metadata": {},
     "output_type": "execute_result"
    }
   ],
   "source": [
    "df['subject'].unique()"
   ]
  },
  {
   "cell_type": "code",
   "execution_count": 73,
   "id": "441dcd5c",
   "metadata": {},
   "outputs": [],
   "source": [
    "X=pd.DataFrame(df.drop(['Activity','subject'],axis=1))\n",
    "y= df.Activity.values.astype(object)"
   ]
  },
  {
   "cell_type": "code",
   "execution_count": 5,
   "id": "558e3415",
   "metadata": {},
   "outputs": [
    {
     "data": {
      "text/plain": [
       "((7352, 561), (7352,))"
      ]
     },
     "execution_count": 5,
     "metadata": {},
     "output_type": "execute_result"
    }
   ],
   "source": [
    "X.shape , y.shape"
   ]
  },
  {
   "cell_type": "code",
   "execution_count": 6,
   "id": "eed62bfe",
   "metadata": {},
   "outputs": [
    {
     "name": "stdout",
     "output_type": "stream",
     "text": [
      "      tBodyAcc-mean()-X  tBodyAcc-mean()-Y  tBodyAcc-mean()-Z  \\\n",
      "0              0.288585          -0.020294          -0.132905   \n",
      "1              0.278419          -0.016411          -0.123520   \n",
      "2              0.279653          -0.019467          -0.113462   \n",
      "3              0.279174          -0.026201          -0.123283   \n",
      "4              0.276629          -0.016570          -0.115362   \n",
      "...                 ...                ...                ...   \n",
      "7347           0.299665          -0.057193          -0.181233   \n",
      "7348           0.273853          -0.007749          -0.147468   \n",
      "7349           0.273387          -0.017011          -0.045022   \n",
      "7350           0.289654          -0.018843          -0.158281   \n",
      "7351           0.351503          -0.012423          -0.203867   \n",
      "\n",
      "      tBodyAcc-std()-X  tBodyAcc-std()-Y  tBodyAcc-std()-Z  tBodyAcc-mad()-X  \\\n",
      "0            -0.995279         -0.983111         -0.913526         -0.995112   \n",
      "1            -0.998245         -0.975300         -0.960322         -0.998807   \n",
      "2            -0.995380         -0.967187         -0.978944         -0.996520   \n",
      "3            -0.996091         -0.983403         -0.990675         -0.997099   \n",
      "4            -0.998139         -0.980817         -0.990482         -0.998321   \n",
      "...                ...               ...               ...               ...   \n",
      "7347         -0.195387          0.039905          0.077078         -0.282301   \n",
      "7348         -0.235309          0.004816          0.059280         -0.322552   \n",
      "7349         -0.218218         -0.103822          0.274533         -0.304515   \n",
      "7350         -0.219139         -0.111412          0.268893         -0.310487   \n",
      "7351         -0.269270         -0.087212          0.177404         -0.377404   \n",
      "\n",
      "      tBodyAcc-mad()-Y  tBodyAcc-mad()-Z  tBodyAcc-max()-X  ...  \\\n",
      "0            -0.983185         -0.923527         -0.934724  ...   \n",
      "1            -0.974914         -0.957686         -0.943068  ...   \n",
      "2            -0.963668         -0.977469         -0.938692  ...   \n",
      "3            -0.982750         -0.989302         -0.938692  ...   \n",
      "4            -0.979672         -0.990441         -0.942469  ...   \n",
      "...                ...               ...               ...  ...   \n",
      "7347          0.043616          0.060410          0.210795  ...   \n",
      "7348         -0.029456          0.080585          0.117440  ...   \n",
      "7349         -0.098913          0.332584          0.043999  ...   \n",
      "7350         -0.068200          0.319473          0.101702  ...   \n",
      "7351         -0.038678          0.229430          0.269013  ...   \n",
      "\n",
      "      fBodyBodyGyroJerkMag-meanFreq()  fBodyBodyGyroJerkMag-skewness()  \\\n",
      "0                           -0.074323                        -0.298676   \n",
      "1                            0.158075                        -0.595051   \n",
      "2                            0.414503                        -0.390748   \n",
      "3                            0.404573                        -0.117290   \n",
      "4                            0.087753                        -0.351471   \n",
      "...                               ...                              ...   \n",
      "7347                        -0.070157                        -0.588433   \n",
      "7348                         0.165259                        -0.390738   \n",
      "7349                         0.195034                         0.025145   \n",
      "7350                         0.013865                         0.063907   \n",
      "7351                        -0.058402                        -0.387052   \n",
      "\n",
      "      fBodyBodyGyroJerkMag-kurtosis()  angle(tBodyAccMean,gravity)  \\\n",
      "0                           -0.710304                    -0.112754   \n",
      "1                           -0.861499                     0.053477   \n",
      "2                           -0.760104                    -0.118559   \n",
      "3                           -0.482845                    -0.036788   \n",
      "4                           -0.699205                     0.123320   \n",
      "...                               ...                          ...   \n",
      "7347                        -0.880324                    -0.190437   \n",
      "7348                        -0.680744                     0.064907   \n",
      "7349                        -0.304029                     0.052806   \n",
      "7350                        -0.344314                    -0.101360   \n",
      "7351                        -0.740738                    -0.280088   \n",
      "\n",
      "      angle(tBodyAccJerkMean),gravityMean)  angle(tBodyGyroMean,gravityMean)  \\\n",
      "0                                 0.030400                         -0.464761   \n",
      "1                                -0.007435                         -0.732626   \n",
      "2                                 0.177899                          0.100699   \n",
      "3                                -0.012892                          0.640011   \n",
      "4                                 0.122542                          0.693578   \n",
      "...                                    ...                               ...   \n",
      "7347                              0.829718                          0.206972   \n",
      "7348                              0.875679                         -0.879033   \n",
      "7349                             -0.266724                          0.864404   \n",
      "7350                              0.700740                          0.936674   \n",
      "7351                             -0.007739                         -0.056088   \n",
      "\n",
      "      angle(tBodyGyroJerkMean,gravityMean)  angle(X,gravityMean)  \\\n",
      "0                                -0.018446             -0.841247   \n",
      "1                                 0.703511             -0.844788   \n",
      "2                                 0.808529             -0.848933   \n",
      "3                                -0.485366             -0.848649   \n",
      "4                                -0.615971             -0.847865   \n",
      "...                                    ...                   ...   \n",
      "7347                             -0.425619             -0.791883   \n",
      "7348                              0.400219             -0.771840   \n",
      "7349                              0.701169             -0.779133   \n",
      "7350                             -0.589479             -0.785181   \n",
      "7351                             -0.616956             -0.783267   \n",
      "\n",
      "      angle(Y,gravityMean)  angle(Z,gravityMean)  \n",
      "0                 0.179941             -0.058627  \n",
      "1                 0.180289             -0.054317  \n",
      "2                 0.180637             -0.049118  \n",
      "3                 0.181935             -0.047663  \n",
      "4                 0.185151             -0.043892  \n",
      "...                    ...                   ...  \n",
      "7347              0.238604              0.049819  \n",
      "7348              0.252676              0.050053  \n",
      "7349              0.249145              0.040811  \n",
      "7350              0.246432              0.025339  \n",
      "7351              0.246809              0.036695  \n",
      "\n",
      "[7352 rows x 561 columns]\n"
     ]
    }
   ],
   "source": [
    "print(X)"
   ]
  },
  {
   "cell_type": "code",
   "execution_count": 5,
   "id": "447a7f4f",
   "metadata": {},
   "outputs": [
    {
     "name": "stdout",
     "output_type": "stream",
     "text": [
      "['STANDING' 'STANDING' 'STANDING' ... 'WALKING_UPSTAIRS'\n",
      " 'WALKING_UPSTAIRS' 'WALKING_UPSTAIRS']\n"
     ]
    }
   ],
   "source": [
    "print(y)"
   ]
  },
  {
   "cell_type": "code",
   "execution_count": null,
   "id": "1c0f0be5",
   "metadata": {},
   "outputs": [],
   "source": []
  },
  {
   "cell_type": "markdown",
   "id": "9d6d0dec",
   "metadata": {},
   "source": [
    "## Transforming Non numerical Labels into numerical labels¶\n",
    "\n"
   ]
  },
  {
   "cell_type": "code",
   "execution_count": 74,
   "id": "4dbac91a",
   "metadata": {},
   "outputs": [],
   "source": [
    "from sklearn import preprocessing"
   ]
  },
  {
   "cell_type": "code",
   "execution_count": 75,
   "id": "ad6fd292",
   "metadata": {},
   "outputs": [],
   "source": [
    "encoder=preprocessing.LabelEncoder()"
   ]
  },
  {
   "cell_type": "code",
   "execution_count": 76,
   "id": "72c31d79",
   "metadata": {},
   "outputs": [
    {
     "data": {
      "text/plain": [
       "(7352,)"
      ]
     },
     "execution_count": 76,
     "metadata": {},
     "output_type": "execute_result"
    }
   ],
   "source": [
    "encoder.fit(y)\n",
    "y=encoder.transform(y)\n",
    "y.shape"
   ]
  },
  {
   "cell_type": "code",
   "execution_count": 10,
   "id": "3362220a",
   "metadata": {},
   "outputs": [
    {
     "data": {
      "text/plain": [
       "array(['LAYING', 'SITTING', 'STANDING', 'WALKING', 'WALKING_DOWNSTAIRS',\n",
       "       'WALKING_UPSTAIRS'], dtype=object)"
      ]
     },
     "execution_count": 10,
     "metadata": {},
     "output_type": "execute_result"
    }
   ],
   "source": [
    "encoder.classes_"
   ]
  },
  {
   "cell_type": "code",
   "execution_count": null,
   "id": "ff58a010",
   "metadata": {},
   "outputs": [],
   "source": []
  },
  {
   "cell_type": "markdown",
   "id": "c799d900",
   "metadata": {},
   "source": [
    "## Standard scalar"
   ]
  },
  {
   "cell_type": "code",
   "execution_count": 77,
   "id": "0e5c8fe5",
   "metadata": {},
   "outputs": [],
   "source": [
    "from sklearn.preprocessing import StandardScaler\n",
    "scaler = StandardScaler()"
   ]
  },
  {
   "cell_type": "code",
   "execution_count": 78,
   "id": "b54b8f0f",
   "metadata": {},
   "outputs": [],
   "source": [
    "X=scaler.fit_transform(X)"
   ]
  },
  {
   "cell_type": "code",
   "execution_count": 79,
   "id": "1d6799de",
   "metadata": {},
   "outputs": [
    {
     "name": "stdout",
     "output_type": "stream",
     "text": [
      "[[ 0.20064157 -0.0636826  -0.41962845 ... -0.68721921  0.40794614\n",
      "  -0.00756789]\n",
      " [ 0.05594788  0.03148567 -0.25390836 ... -0.694138    0.40911698\n",
      "   0.00787517]\n",
      " [ 0.07351535 -0.04341648 -0.07629468 ... -0.702239    0.4102883\n",
      "   0.02650234]\n",
      " ...\n",
      " [-0.01566765  0.0167814   1.13222107 ... -0.56584847  0.64059683\n",
      "   0.34870928]\n",
      " [ 0.21586648 -0.02812252 -0.86770988 ... -0.57766781  0.63147758\n",
      "   0.29327564]\n",
      " [ 1.09620157  0.12919873 -1.67268082 ... -0.57392691  0.63274259\n",
      "   0.33396081]]\n"
     ]
    }
   ],
   "source": [
    "print(X)"
   ]
  },
  {
   "cell_type": "code",
   "execution_count": null,
   "id": "b4e2ac3d",
   "metadata": {},
   "outputs": [],
   "source": []
  },
  {
   "cell_type": "markdown",
   "id": "528921d7",
   "metadata": {},
   "source": [
    "## Splitting the data into training and test data"
   ]
  },
  {
   "cell_type": "code",
   "execution_count": 80,
   "id": "19c4cab9",
   "metadata": {},
   "outputs": [],
   "source": [
    "from sklearn.model_selection import train_test_split\n",
    "\n",
    "X_train,X_test,y_train,y_test = train_test_split(X,y,test_size = 0.3,random_state = 100)"
   ]
  },
  {
   "cell_type": "code",
   "execution_count": 81,
   "id": "b9861209",
   "metadata": {},
   "outputs": [
    {
     "name": "stdout",
     "output_type": "stream",
     "text": [
      "X_train (5146, 561)\n",
      "X_test (2206, 561)\n",
      "y_train (5146,)\n",
      "y_test (2206,)\n"
     ]
    }
   ],
   "source": [
    "print('X_train',X_train.shape)\n",
    "print('X_test',X_test.shape)\n",
    "print('y_train',y_train.shape)\n",
    "print('y_test',y_test.shape)"
   ]
  },
  {
   "cell_type": "code",
   "execution_count": null,
   "id": "5fb7a1ed",
   "metadata": {},
   "outputs": [],
   "source": []
  },
  {
   "cell_type": "markdown",
   "id": "f31e02e6",
   "metadata": {},
   "source": [
    "## Linear Regression"
   ]
  },
  {
   "cell_type": "code",
   "execution_count": 82,
   "id": "81483e74",
   "metadata": {},
   "outputs": [],
   "source": [
    "from sklearn.linear_model import LinearRegression"
   ]
  },
  {
   "cell_type": "code",
   "execution_count": 83,
   "id": "72d035e3",
   "metadata": {},
   "outputs": [],
   "source": [
    "model = LinearRegression()"
   ]
  },
  {
   "cell_type": "code",
   "execution_count": 22,
   "id": "acf2b8c1",
   "metadata": {},
   "outputs": [
    {
     "data": {
      "text/plain": [
       "LinearRegression()"
      ]
     },
     "execution_count": 22,
     "metadata": {},
     "output_type": "execute_result"
    }
   ],
   "source": [
    "model.fit(X_train, y_train)\n",
    "LinearRegression()"
   ]
  },
  {
   "cell_type": "code",
   "execution_count": 84,
   "id": "69f5301f",
   "metadata": {},
   "outputs": [],
   "source": [
    "model = LinearRegression().fit(X_train, y_train)"
   ]
  },
  {
   "cell_type": "code",
   "execution_count": 195,
   "id": "10e03686",
   "metadata": {},
   "outputs": [
    {
     "name": "stdout",
     "output_type": "stream",
     "text": [
      "coefficient of determination: 0.9832275611967362\n"
     ]
    }
   ],
   "source": [
    "r_sq = model.score(X_test, y_test)\n",
    "print(f\"coefficient of determination: {r_sq}\")"
   ]
  },
  {
   "cell_type": "code",
   "execution_count": 86,
   "id": "94ea3b7a",
   "metadata": {},
   "outputs": [
    {
     "name": "stdout",
     "output_type": "stream",
     "text": [
      "intercept: 2.316036200621678\n"
     ]
    }
   ],
   "source": [
    "print(f\"intercept: {model.intercept_}\")"
   ]
  },
  {
   "cell_type": "code",
   "execution_count": 26,
   "id": "f9fa0f43",
   "metadata": {},
   "outputs": [
    {
     "name": "stdout",
     "output_type": "stream",
     "text": [
      "slope: [ 1.34133142e-02 -1.54889657e-02 -1.21455005e-02  1.40849629e+00\n",
      "  3.63044751e+00  6.12285388e+00 -2.74980584e+00 -8.70664289e-01\n",
      " -1.97145288e-01 -1.95208897e-01  3.02332553e-02  1.00682004e-01\n",
      "  7.74042288e-02  1.70742605e-02 -9.72363222e-02  1.38169444e+00\n",
      " -2.48348791e+05 -8.74901976e+04 -7.45009066e+04  1.64608756e-01\n",
      "  1.14676041e-01  9.16918446e-02  9.59532188e-04 -1.91019612e-02\n",
      " -3.69399057e-02  7.28424254e-02 -1.18698294e-03 -1.24779426e-02\n",
      " -1.72224532e-02  3.25344007e-02  2.23728365e-02  2.79803521e-02\n",
      "  7.49766181e-03  1.29257711e-01  6.87150526e-02 -2.02992236e-02\n",
      " -1.10791050e-02 -1.16617148e-02  2.19759805e-02  1.94513501e-03\n",
      " -9.74835040e-01 -3.14865645e-01 -3.55816215e-01 -4.61491533e-02\n",
      " -4.48302837e-01 -8.60806998e-01 -1.40864555e-01  4.97854201e-01\n",
      "  7.26113069e-01 -4.35061501e-01  3.64079425e-01  1.15238988e+00\n",
      "  1.47650560e+00 -3.46689882e-01 -9.70331433e-01  1.21581727e-01\n",
      "  7.77156832e-01  5.04168472e-01  3.17271276e-01  1.18107177e-01\n",
      " -1.01708828e-01 -6.70452328e-02  4.62888049e-02 -3.97932397e-02\n",
      " -1.44768452e-02  1.12158963e+02  3.27688307e+02  3.26190009e+02\n",
      "  1.10634634e+02  1.00176000e+02  2.82684467e+02  2.70272285e+02\n",
      "  8.80644242e+01  6.07324310e+01  1.78082619e+02  1.75750795e+02\n",
      "  5.84764316e+01  1.66627777e-02  8.62466284e-03 -5.42198386e-03\n",
      "  1.02933452e-02  1.21960604e-02  2.56541923e-03 -1.03478071e+00\n",
      "  3.01304061e-01  1.51654287e-01 -3.12837516e-01  3.86472708e-01\n",
      " -4.85813046e-01 -5.17843157e-02  2.80432851e-02 -1.08340432e-01\n",
      " -1.18911597e-01 -2.73928515e-02  5.87718399e-02  1.22032424e+00\n",
      "  1.35338848e+05  7.24847722e+04  6.46971261e+04 -5.31718117e-02\n",
      " -2.01502312e-01  5.99824346e-02 -4.49157854e-02 -1.27917696e-01\n",
      " -1.60950285e-01  1.03880213e-02  2.03053286e-02 -1.32510850e-02\n",
      " -3.10795606e-02  2.96573821e-02  4.55298015e-02  1.70641247e-02\n",
      "  7.10578386e-03 -8.50088987e-03  1.75892608e-02  4.21347142e-02\n",
      "  2.34083001e-02 -2.45780467e-02 -6.27598906e-02  1.56740970e-03\n",
      "  3.93235620e-02  1.45024054e-02 -8.23726047e-03  4.81237923e+00\n",
      "  3.44415521e-01  5.64028059e-01  6.58542206e-01 -2.86467539e-01\n",
      "  4.67453563e-01  7.17372765e-02  2.18021957e-02  7.69152468e-02\n",
      " -1.40440322e-01 -3.93887578e-02 -4.10580724e-02 -6.17920701e-01\n",
      " -2.60889871e+05 -2.58821418e+05 -1.07497369e+05 -1.28125236e-01\n",
      "  8.02615757e-02  8.32534702e-02 -6.08944082e-03 -1.85565853e-03\n",
      "  1.60532757e-02 -7.76050685e-03  5.11619031e-03 -5.93707156e-03\n",
      " -2.79045095e-02  3.85463791e-02  2.84751735e-02  2.77277361e-02\n",
      " -2.54211181e-03  2.25070537e-01  1.01721988e-01 -4.51394784e-02\n",
      " -1.18390852e-01  3.66696798e-02 -4.61704117e-03 -2.52464832e-02\n",
      " -1.29514526e-02 -5.17084968e-03 -8.23915500e-03 -1.00635010e+00\n",
      " -4.71567039e-01 -4.51652863e-01  5.52382696e-01 -1.23894777e-01\n",
      " -3.05694850e-02  1.51248791e-01 -5.72652401e-02  5.00984516e-04\n",
      " -7.39504506e-02  8.50500949e-03 -6.96929330e-03  1.20431361e+00\n",
      "  6.14987913e+03  1.99970047e+04  3.91785136e+03 -7.56823820e-02\n",
      " -7.77388744e-02 -9.39659085e-02  1.34216688e-01 -7.41635594e-02\n",
      "  4.15608703e-02 -3.30443032e-02 -6.67544798e-02 -5.43518048e-02\n",
      " -1.41903490e-02  8.07379357e-02  3.83836546e-02 -3.75123009e-02\n",
      " -7.60224252e-03 -1.19925489e-01 -8.82283126e-02 -1.00689967e-01\n",
      " -1.43473336e-02 -5.00700205e-02 -3.54874148e-02 -3.85194153e-03\n",
      " -2.48590706e-01 -1.08668026e+00 -2.54207837e-01  2.99361174e-02\n",
      " -8.90806485e-03 -2.48493543e-01  1.85966796e+05  1.00139534e-02\n",
      " -8.22438543e-02 -2.93949697e-01 -3.26976387e-01 -1.72135740e-01\n",
      " -1.06940536e-01 -2.48129442e-01 -1.08871883e+00 -2.54171616e-01\n",
      "  3.11614803e-02 -1.00571662e-02 -2.49147457e-01  1.85966798e+05\n",
      "  9.37042512e-03 -8.23157046e-02 -2.92766377e-01 -3.26745323e-01\n",
      " -1.75428630e-01 -1.08148854e-01  5.30460484e-01  1.31286737e+00\n",
      " -1.43316738e-01 -4.97339416e-02 -1.45633692e-02  5.30759007e-01\n",
      " -2.56245946e+05 -4.19947934e-02  6.35080131e-02  1.70214867e-01\n",
      "  2.09737702e-01  1.08554278e-01  1.26065733e-01  2.30089272e-01\n",
      " -1.64770276e+00 -1.25875542e-01  1.10262221e-01  3.18722858e-03\n",
      "  2.30512224e-01  5.44346399e+05 -1.31018243e-02  1.82593139e-03\n",
      " -1.80915198e-01 -2.36770812e-01 -1.57363168e-01 -8.57568801e-02\n",
      " -5.84041411e-01  1.50905314e-01  5.57683374e-02 -1.67668407e-02\n",
      " -3.46770778e-04 -5.85240627e-01 -2.73783846e+04 -1.05013001e-01\n",
      "  3.16087076e-01 -3.00235007e-01 -3.39724228e-01 -2.50783374e-01\n",
      " -2.33214857e-01  3.08956001e+05  2.09294511e+05  1.76850800e+05\n",
      "  3.45584415e+00 -1.45502686e+00 -4.36587406e+00 -3.61863667e-01\n",
      "  2.65926046e-01  5.58323188e-01  4.20374725e-02 -8.70419280e-02\n",
      "  1.92580885e-01 -1.34926899e-02  9.62654848e-04 -2.32537440e-02\n",
      " -6.77817479e+05  2.49678736e+05  2.97540212e+05 -3.46577304e+05\n",
      "  7.15267023e-02  4.61493402e-02 -1.82463065e-02 -5.79614083e-02\n",
      " -1.03905741e-01 -1.46501347e-01 -2.53969176e-03  4.10256254e-03\n",
      " -1.48025844e-03 -5.51556944e-03  1.89053892e-02  3.30318346e-03\n",
      " -6.41041134e-02  4.06156303e-02  7.84881763e-02 -7.62175217e-02\n",
      "  8.54374871e-02 -9.32787451e-02 -1.18082231e+05 -2.75027039e+04\n",
      "  2.37446172e+05 -1.18351930e+05  9.48928582e+03  6.12643084e+03\n",
      "  1.03530544e+04  6.02776117e+03 -3.48209309e+05 -3.30406778e+05\n",
      " -1.18818594e+05 -1.65434930e+04  2.67360866e+05  2.78222706e+05\n",
      " -2.00612779e+05 -1.20104427e+05  4.96208272e+05  6.11361545e+04\n",
      " -2.97774434e+04 -1.71762246e+04 -3.56289327e+04 -1.85614586e+04\n",
      " -8.10729267e+03 -6.30671822e+05  1.64994195e+04  5.06058448e+04\n",
      "  4.41833570e+04  6.92353508e+04  3.30498693e+04  1.05275118e+04\n",
      " -5.22660451e+04 -1.65747829e+05 -5.55444756e+03 -2.71353278e+03\n",
      " -6.98187459e+04 -3.05669180e+04 -1.41720326e+05  4.72035421e+04\n",
      " -6.04990129e+04  9.60012339e+04  4.43215409e+05  2.36098470e+05\n",
      "  1.41502420e+03  1.03946583e+03  9.12675907e+02 -3.81170472e-01\n",
      " -9.70713840e-01  8.71930678e-03 -7.44716569e-02  2.69447407e-01\n",
      "  8.40229101e-02 -3.35105662e-02  5.38230465e-02  3.63914731e-02\n",
      " -5.40077457e-03 -6.29036503e-03  3.69621474e-04 -3.29143822e+03\n",
      "  2.49188307e+04  1.30736184e+05 -1.46983499e+05 -4.28606182e-02\n",
      " -1.46665810e-02 -1.42897451e-02  4.13149825e-01 -4.10497256e-02\n",
      " -2.42631347e-01 -1.87682257e-02 -1.63106792e-03 -6.87093224e-04\n",
      "  1.08493763e-02 -6.17809313e-03 -5.47102969e-03  1.85065503e-02\n",
      " -9.89124750e-03 -1.00784087e-02  1.16926883e-02 -2.15091290e-02\n",
      "  1.39733462e-02  1.81486051e+05  2.02832383e+05 -1.00864878e+05\n",
      "  7.25629276e+04 -6.81320308e+04 -5.29879890e+04 -9.59661130e+04\n",
      " -1.04626282e+04 -3.35150076e+05  1.62743418e+05  2.17656741e+05\n",
      "  1.00879109e+05 -6.11237023e+04 -2.24843012e+05  6.85631849e+03\n",
      "  2.48780347e+04 -2.78145334e+05 -9.69209568e+04  1.41069646e+05\n",
      "  1.02254789e+05  6.11169573e+04  6.31349373e+03 -4.14177428e+05\n",
      "  3.40905535e+04 -3.01853432e+05 -6.69889668e+04  4.93312462e+05\n",
      "  1.21187940e+05  7.95834521e+04  2.02623407e+05 -9.99998438e+04\n",
      "  4.42789654e+04  6.84916816e+04  4.13361568e+04  1.24098457e+05\n",
      "  1.12841501e+04 -2.34845983e+05  2.00860314e+05 -1.93587374e+04\n",
      " -1.27234655e+05  3.76627565e+04 -1.49867928e+05 -1.17221349e+05\n",
      " -1.42494997e+05 -8.31320290e+04 -4.11148336e+00 -1.17766790e-02\n",
      " -7.55460972e-01 -2.86570987e-01 -2.31905685e-01 -3.21373825e-01\n",
      "  1.09772108e-01  1.11920179e-01  1.87257939e-01 -3.92745644e-03\n",
      " -7.15993354e-03 -1.09241698e-02  3.30356117e+05  3.64489981e+04\n",
      " -2.90669452e+05  2.12918540e+05 -3.23236856e-02  3.27053105e-02\n",
      "  1.29053780e-02  2.33329466e-01 -1.40957749e-01 -1.42335391e-01\n",
      "  7.37940862e-03 -3.49293599e-03 -2.44417139e-02 -3.30446729e-02\n",
      " -1.72101920e-02 -2.57523454e-02  1.52267291e-01 -1.59586637e-01\n",
      " -4.76559752e-02  4.15262188e-02 -1.00537235e-01  8.31112552e-02\n",
      "  1.66204436e+05  3.61034707e+04  1.37256749e+05 -3.48268228e+04\n",
      " -6.74881355e+04 -3.51822854e+04 -1.26883299e+05 -8.72506684e+04\n",
      " -2.62797853e+05 -1.76691483e+05  5.92157552e+04  2.09216678e+05\n",
      "  4.03784731e+04  1.14010794e+05 -1.27665902e+05 -5.80524407e+04\n",
      "  6.83989566e+04 -6.53403468e+04 -1.40403668e+04 -5.73105814e+03\n",
      " -1.21757892e+05 -4.98439568e+04  6.41749589e+05  1.02631148e+05\n",
      "  5.45093433e+03  1.62703121e+05 -2.90203336e+05  8.01074058e+04\n",
      " -9.89022811e+04 -2.69495159e+04 -2.12406033e+05  1.39014941e+04\n",
      "  4.25900760e+04  1.95036369e+04  1.12646990e+05  7.82814916e+04\n",
      "  1.97411552e+05  2.67648656e+05 -3.08970203e+04 -1.86083450e+05\n",
      " -2.96483206e+05 -1.07864267e+05  4.92746185e-01  1.35234697e+00\n",
      " -1.41605787e-02  5.86279117e-03  9.35895587e-04  4.92663162e-01\n",
      " -2.59560080e-02  6.53841920e-03  8.12458465e-02 -2.78053921e-04\n",
      "  1.51024399e-02  5.63650148e-02 -1.79654840e-02 -3.30493273e-01\n",
      " -5.75068773e-01 -4.28472345e-03 -1.67201729e-01  2.03002288e-02\n",
      " -3.30896032e-01  3.31451674e-01 -7.25172294e-03  1.96584363e-01\n",
      " -4.09879844e-03  2.72526534e-02 -1.79490215e-02  2.66653307e-02\n",
      "  2.86708833e-01  1.03903157e+00 -6.50044737e-02 -9.74775562e-02\n",
      " -1.53172374e-02  2.85904341e-01  1.30856858e-01  7.23935979e-02\n",
      " -6.12794144e-02 -1.38048304e-02 -2.98938569e-04 -2.79173667e-02\n",
      "  1.09121121e-02  9.48137094e-02  8.56939387e-02 -1.16613701e-01\n",
      "  1.06921308e-01  7.23265977e-03  9.46939634e-02 -5.03574383e-01\n",
      "  2.17754561e-02  2.36542895e-02 -6.53771562e-03  1.68566531e-03\n",
      " -1.41943609e-03 -1.52738428e-02 -2.11693271e-02  6.48691319e-03\n",
      "  4.40236843e-04  1.83141485e-03 -3.23802993e-01  2.89073413e-04\n",
      " -1.99215395e-01]\n"
     ]
    }
   ],
   "source": [
    "print(f\"slope: {model.coef_}\")"
   ]
  },
  {
   "cell_type": "code",
   "execution_count": 87,
   "id": "a6dd0bf6",
   "metadata": {},
   "outputs": [],
   "source": [
    "# Making predictions using the predict() and xTest data\n",
    "predictions = model.predict(X_test)"
   ]
  },
  {
   "cell_type": "code",
   "execution_count": 88,
   "id": "be637891",
   "metadata": {},
   "outputs": [],
   "source": [
    "comparison = pd.DataFrame({'Predicted Values':predictions,'Actual Values':y_test})"
   ]
  },
  {
   "cell_type": "code",
   "execution_count": 89,
   "id": "c40f7ee0",
   "metadata": {},
   "outputs": [
    {
     "name": "stdout",
     "output_type": "stream",
     "text": [
      "   Predicted Values  Actual Values\n",
      "0         -0.266657              0\n",
      "1          3.613355              4\n",
      "2          4.276231              4\n",
      "3          4.061033              4\n",
      "4          3.167156              3\n",
      "5          1.762185              2\n",
      "6         -0.027905              0\n",
      "7          3.024659              3\n",
      "8          4.700019              5\n",
      "9          4.735600              5\n"
     ]
    }
   ],
   "source": [
    "print(comparison.head(10))"
   ]
  },
  {
   "cell_type": "code",
   "execution_count": null,
   "id": "9acdad3a",
   "metadata": {},
   "outputs": [],
   "source": []
  },
  {
   "cell_type": "markdown",
   "id": "a3181c75",
   "metadata": {},
   "source": [
    "## Logistic regression"
   ]
  },
  {
   "cell_type": "code",
   "execution_count": 90,
   "id": "ada6af21",
   "metadata": {},
   "outputs": [],
   "source": [
    "from sklearn.linear_model import LogisticRegression"
   ]
  },
  {
   "cell_type": "code",
   "execution_count": 91,
   "id": "ef46bb90",
   "metadata": {},
   "outputs": [],
   "source": [
    "logmodel=LogisticRegression()"
   ]
  },
  {
   "cell_type": "code",
   "execution_count": 92,
   "id": "e37a5dcc",
   "metadata": {},
   "outputs": [
    {
     "name": "stderr",
     "output_type": "stream",
     "text": [
      "C:\\Users\\User\\anaconda3\\lib\\site-packages\\sklearn\\linear_model\\_logistic.py:763: ConvergenceWarning: lbfgs failed to converge (status=1):\n",
      "STOP: TOTAL NO. of ITERATIONS REACHED LIMIT.\n",
      "\n",
      "Increase the number of iterations (max_iter) or scale the data as shown in:\n",
      "    https://scikit-learn.org/stable/modules/preprocessing.html\n",
      "Please also refer to the documentation for alternative solver options:\n",
      "    https://scikit-learn.org/stable/modules/linear_model.html#logistic-regression\n",
      "  n_iter_i = _check_optimize_result(\n"
     ]
    },
    {
     "data": {
      "text/plain": [
       "LogisticRegression()"
      ]
     },
     "execution_count": 92,
     "metadata": {},
     "output_type": "execute_result"
    }
   ],
   "source": [
    "logmodel.fit(X_train,y_train)"
   ]
  },
  {
   "cell_type": "code",
   "execution_count": 93,
   "id": "1ff456cd",
   "metadata": {},
   "outputs": [],
   "source": [
    "predictions=logmodel.predict(X_test)"
   ]
  },
  {
   "cell_type": "code",
   "execution_count": 94,
   "id": "0070833b",
   "metadata": {},
   "outputs": [],
   "source": [
    "from sklearn.metrics import classification_report"
   ]
  },
  {
   "cell_type": "code",
   "execution_count": 95,
   "id": "37d17be4",
   "metadata": {},
   "outputs": [
    {
     "data": {
      "text/plain": [
       "'              precision    recall  f1-score   support\\n\\n           0       1.00      1.00      1.00       419\\n           1       0.96      0.96      0.96       386\\n           2       0.96      0.97      0.96       410\\n           3       1.00      1.00      1.00       356\\n           4       1.00      1.00      1.00       316\\n           5       0.99      1.00      1.00       319\\n\\n    accuracy                           0.99      2206\\n   macro avg       0.99      0.99      0.99      2206\\nweighted avg       0.99      0.99      0.99      2206\\n'"
      ]
     },
     "execution_count": 95,
     "metadata": {},
     "output_type": "execute_result"
    }
   ],
   "source": [
    "classification_report(y_test,predictions)"
   ]
  },
  {
   "cell_type": "code",
   "execution_count": 96,
   "id": "6f6440a5",
   "metadata": {},
   "outputs": [],
   "source": [
    "from sklearn.metrics import confusion_matrix"
   ]
  },
  {
   "cell_type": "code",
   "execution_count": 97,
   "id": "2502eef5",
   "metadata": {},
   "outputs": [
    {
     "data": {
      "text/plain": [
       "array([[419,   0,   0,   0,   0,   0],\n",
       "       [  0, 370,  15,   0,   0,   1],\n",
       "       [  0,  14, 396,   0,   0,   0],\n",
       "       [  0,   0,   0, 356,   0,   0],\n",
       "       [  0,   0,   0,   0, 315,   1],\n",
       "       [  0,   0,   0,   0,   1, 318]], dtype=int64)"
      ]
     },
     "execution_count": 97,
     "metadata": {},
     "output_type": "execute_result"
    }
   ],
   "source": [
    "confusion_matrix(y_test,predictions)"
   ]
  },
  {
   "cell_type": "code",
   "execution_count": 98,
   "id": "1648ba84",
   "metadata": {},
   "outputs": [],
   "source": [
    "from sklearn.metrics import accuracy_score"
   ]
  },
  {
   "cell_type": "code",
   "execution_count": 196,
   "id": "7c05f80c",
   "metadata": {},
   "outputs": [],
   "source": [
    "Lr=accuracy_score(y_test,predictions)"
   ]
  },
  {
   "cell_type": "code",
   "execution_count": 197,
   "id": "fdd8b2d4",
   "metadata": {},
   "outputs": [
    {
     "data": {
      "text/plain": [
       "0.985494106980961"
      ]
     },
     "execution_count": 197,
     "metadata": {},
     "output_type": "execute_result"
    }
   ],
   "source": [
    "Lr"
   ]
  },
  {
   "cell_type": "code",
   "execution_count": null,
   "id": "61c3979b",
   "metadata": {},
   "outputs": [],
   "source": []
  },
  {
   "cell_type": "markdown",
   "id": "8f4cbc9c",
   "metadata": {},
   "source": [
    "## SVM"
   ]
  },
  {
   "cell_type": "code",
   "execution_count": 168,
   "id": "3c5c67c3",
   "metadata": {},
   "outputs": [],
   "source": [
    "from sklearn.metrics import confusion_matrix\n",
    "from sklearn.metrics import classification_report,accuracy_score"
   ]
  },
  {
   "cell_type": "code",
   "execution_count": 169,
   "id": "1da9a795",
   "metadata": {},
   "outputs": [],
   "source": [
    "from sklearn import svm\n",
    "model = svm.SVC(C = 1,kernel = 'linear',gamma = 'auto')\n",
    "fit_model = model.fit(X_train,y_train)\n"
   ]
  },
  {
   "cell_type": "code",
   "execution_count": 170,
   "id": "eb4b9d57",
   "metadata": {},
   "outputs": [
    {
     "name": "stdout",
     "output_type": "stream",
     "text": [
      "Test set\n",
      " Accuracy: 0.98\n"
     ]
    }
   ],
   "source": [
    "sv=model.score(X_test, y_test)\n",
    "print('Test set\\n Accuracy: {:0.2f}'.format(model.score(X_test, y_test))) #the accuracy of the model on test data is given below"
   ]
  },
  {
   "cell_type": "code",
   "execution_count": null,
   "id": "065cc433",
   "metadata": {},
   "outputs": [],
   "source": []
  },
  {
   "cell_type": "markdown",
   "id": "aaf4cb22",
   "metadata": {},
   "source": [
    "## Decision tree"
   ]
  },
  {
   "cell_type": "code",
   "execution_count": 171,
   "id": "4ab40635",
   "metadata": {},
   "outputs": [
    {
     "data": {
      "text/plain": [
       "DecisionTreeClassifier()"
      ]
     },
     "execution_count": 171,
     "metadata": {},
     "output_type": "execute_result"
    }
   ],
   "source": [
    "from sklearn.tree import DecisionTreeClassifier\n",
    "dtree=DecisionTreeClassifier()\n",
    "dtree.fit(X_train,y_train)"
   ]
  },
  {
   "cell_type": "code",
   "execution_count": 172,
   "id": "a0d7d8a8",
   "metadata": {},
   "outputs": [
    {
     "name": "stdout",
     "output_type": "stream",
     "text": [
      "Classification report - \n",
      "               precision    recall  f1-score   support\n",
      "\n",
      "           0       1.00      1.00      1.00       419\n",
      "           1       0.91      0.87      0.89       386\n",
      "           2       0.89      0.92      0.90       410\n",
      "           3       0.95      0.94      0.95       356\n",
      "           4       0.96      0.94      0.95       316\n",
      "           5       0.91      0.95      0.93       319\n",
      "\n",
      "    accuracy                           0.94      2206\n",
      "   macro avg       0.94      0.94      0.94      2206\n",
      "weighted avg       0.94      0.94      0.94      2206\n",
      "\n"
     ]
    }
   ],
   "source": [
    "# Predicting the values of test data\n",
    "y_pred = dtree.predict(X_test)\n",
    "print(\"Classification report - \\n\", classification_report(y_test,y_pred))"
   ]
  },
  {
   "cell_type": "code",
   "execution_count": 184,
   "id": "0d3fb728",
   "metadata": {},
   "outputs": [
    {
     "name": "stdout",
     "output_type": "stream",
     "text": [
      "Test set\n",
      " Accuracy: 0.94\n"
     ]
    }
   ],
   "source": [
    "dt=dtree.score(X_test, y_test)\n",
    "print('Test set\\n Accuracy: {:0.2f}'.format(dtree.score(X_test, y_test))) #the accuracy of the model on test data is given below"
   ]
  },
  {
   "cell_type": "code",
   "execution_count": null,
   "id": "d1debe3f",
   "metadata": {},
   "outputs": [],
   "source": []
  },
  {
   "cell_type": "code",
   "execution_count": null,
   "id": "27ab1014",
   "metadata": {},
   "outputs": [],
   "source": []
  },
  {
   "cell_type": "markdown",
   "id": "927f43cd",
   "metadata": {},
   "source": [
    "## Random forest"
   ]
  },
  {
   "cell_type": "code",
   "execution_count": 174,
   "id": "6a29cbbb",
   "metadata": {},
   "outputs": [],
   "source": [
    "from sklearn.ensemble import RandomForestClassifier\n",
    "Rn = RandomForestClassifier(n_estimators=4,criterion='entropy',random_state=0)\n",
    "Rn=Rn.fit(X_train,y_train)"
   ]
  },
  {
   "cell_type": "code",
   "execution_count": 175,
   "id": "79d2a8c2",
   "metadata": {},
   "outputs": [
    {
     "name": "stdout",
     "output_type": "stream",
     "text": [
      "Test set\n",
      " Accuracy: 0.94\n"
     ]
    }
   ],
   "source": [
    "rn=Rn.score(X_test, y_test)\n",
    "print('Test set\\n Accuracy: {:0.2f}'.format(Rn.score(X_test, y_test))) #the accuracy of the model on test data is given below"
   ]
  },
  {
   "cell_type": "code",
   "execution_count": null,
   "id": "bcab48b7",
   "metadata": {},
   "outputs": [],
   "source": []
  },
  {
   "cell_type": "markdown",
   "id": "686c3e9b",
   "metadata": {},
   "source": [
    "## Bagging Classifier Model"
   ]
  },
  {
   "cell_type": "code",
   "execution_count": 43,
   "id": "3cd53ee6",
   "metadata": {},
   "outputs": [],
   "source": [
    "from sklearn.ensemble import BaggingClassifier"
   ]
  },
  {
   "cell_type": "code",
   "execution_count": 44,
   "id": "3f576411",
   "metadata": {},
   "outputs": [
    {
     "data": {
      "text/plain": [
       "BaggingClassifier()"
      ]
     },
     "execution_count": 44,
     "metadata": {},
     "output_type": "execute_result"
    }
   ],
   "source": [
    "BC=BaggingClassifier()\n",
    "BC= BC.fit(X_train , y_train)\n",
    "BC"
   ]
  },
  {
   "cell_type": "code",
   "execution_count": 147,
   "id": "d5f043b2",
   "metadata": {},
   "outputs": [
    {
     "name": "stdout",
     "output_type": "stream",
     "text": [
      "Test set\n",
      " Accuracy: 0.96\n"
     ]
    }
   ],
   "source": [
    "bc=BC.score(X_test, y_test)\n",
    "print('Test set\\n Accuracy: {:0.2f}'.format(BC.score(X_test, y_test))) #the accuracy of the model on test data is given below"
   ]
  },
  {
   "cell_type": "code",
   "execution_count": null,
   "id": "a4f8c70c",
   "metadata": {},
   "outputs": [],
   "source": []
  },
  {
   "cell_type": "markdown",
   "id": "dd6f9a84",
   "metadata": {},
   "source": [
    "## XGB Classifierr Model"
   ]
  },
  {
   "cell_type": "code",
   "execution_count": 140,
   "id": "cbfea28c",
   "metadata": {},
   "outputs": [],
   "source": [
    "\n",
    "from xgboost import XGBClassifier"
   ]
  },
  {
   "cell_type": "code",
   "execution_count": 141,
   "id": "79d4ba51",
   "metadata": {},
   "outputs": [
    {
     "data": {
      "text/plain": [
       "XGBClassifier(base_score=0.5, booster='gbtree', callbacks=None,\n",
       "              colsample_bylevel=1, colsample_bynode=1, colsample_bytree=1,\n",
       "              early_stopping_rounds=None, enable_categorical=False,\n",
       "              eval_metric=None, gamma=0, gpu_id=-1, grow_policy='depthwise',\n",
       "              importance_type=None, interaction_constraints='',\n",
       "              learning_rate=0.300000012, max_bin=256, max_cat_to_onehot=4,\n",
       "              max_delta_step=0, max_depth=6, max_leaves=0, min_child_weight=1,\n",
       "              missing=nan, monotone_constraints='()', n_estimators=100,\n",
       "              n_jobs=0, num_parallel_tree=1, objective='multi:softprob',\n",
       "              predictor='auto', random_state=0, reg_alpha=0, ...)"
      ]
     },
     "execution_count": 141,
     "metadata": {},
     "output_type": "execute_result"
    }
   ],
   "source": [
    "XG=XGBClassifier(verbosity = 0)\n",
    "XG= XG.fit(X_train , y_train)\n",
    "XG"
   ]
  },
  {
   "cell_type": "code",
   "execution_count": 142,
   "id": "c9dcf1fa",
   "metadata": {},
   "outputs": [
    {
     "name": "stdout",
     "output_type": "stream",
     "text": [
      "Test set\n",
      " Accuracy: 0.99\n"
     ]
    }
   ],
   "source": [
    "xg=XG.score(X_test, y_test)\n",
    "print('Test set\\n Accuracy: {:0.2f}'.format(XG.score(X_test, y_test))) #the accuracy of the model on test data is given below"
   ]
  },
  {
   "cell_type": "code",
   "execution_count": null,
   "id": "5c68e6a8",
   "metadata": {},
   "outputs": [],
   "source": []
  },
  {
   "cell_type": "markdown",
   "id": "3889a5de",
   "metadata": {},
   "source": [
    "## AdaBoost Classifier Model"
   ]
  },
  {
   "cell_type": "code",
   "execution_count": 122,
   "id": "90d1757e",
   "metadata": {},
   "outputs": [],
   "source": [
    "from sklearn.ensemble import AdaBoostClassifier"
   ]
  },
  {
   "cell_type": "code",
   "execution_count": 123,
   "id": "84b73a60",
   "metadata": {},
   "outputs": [
    {
     "data": {
      "text/plain": [
       "AdaBoostClassifier()"
      ]
     },
     "execution_count": 123,
     "metadata": {},
     "output_type": "execute_result"
    }
   ],
   "source": [
    "AD=AdaBoostClassifier()\n",
    "AD= AD.fit(X_train , y_train)\n",
    "AD"
   ]
  },
  {
   "cell_type": "code",
   "execution_count": 124,
   "id": "4ca0745c",
   "metadata": {},
   "outputs": [
    {
     "name": "stdout",
     "output_type": "stream",
     "text": [
      "Test set\n",
      " Accuracy: 0.54\n"
     ]
    }
   ],
   "source": [
    "ad=AD.score(X_test, y_test)\n",
    "print('Test set\\n Accuracy: {:0.2f}'.format(AD.score(X_test, y_test))) #the accuracy of the model on test data is given below"
   ]
  },
  {
   "cell_type": "code",
   "execution_count": null,
   "id": "b001984a",
   "metadata": {},
   "outputs": [],
   "source": []
  },
  {
   "cell_type": "markdown",
   "id": "9b5556c7",
   "metadata": {},
   "source": [
    "## Gradient Boosting Classifier Model"
   ]
  },
  {
   "cell_type": "code",
   "execution_count": 15,
   "id": "6754d417",
   "metadata": {},
   "outputs": [],
   "source": [
    "from sklearn.ensemble import GradientBoostingClassifier"
   ]
  },
  {
   "cell_type": "code",
   "execution_count": 16,
   "id": "ba8beb3d",
   "metadata": {},
   "outputs": [
    {
     "data": {
      "text/plain": [
       "GradientBoostingClassifier()"
      ]
     },
     "execution_count": 16,
     "metadata": {},
     "output_type": "execute_result"
    }
   ],
   "source": [
    "GB=GradientBoostingClassifier()\n",
    "GB= GB.fit(X_train , y_train)\n",
    "GB"
   ]
  },
  {
   "cell_type": "code",
   "execution_count": 17,
   "id": "c3ed094b",
   "metadata": {},
   "outputs": [
    {
     "name": "stdout",
     "output_type": "stream",
     "text": [
      "Test set\n",
      " Accuracy: 0.98\n"
     ]
    }
   ],
   "source": [
    "gb=GB.score(X_test, y_test)\n",
    "print('Test set\\n Accuracy: {:0.2f}'.format(GB.score(X_test, y_test))) #the accuracy of the model on test data is given below"
   ]
  },
  {
   "cell_type": "code",
   "execution_count": null,
   "id": "292a9383",
   "metadata": {},
   "outputs": [],
   "source": []
  },
  {
   "cell_type": "markdown",
   "id": "dbac8495",
   "metadata": {},
   "source": [
    "## Comparison of Bagging and Boosting Models"
   ]
  },
  {
   "cell_type": "code",
   "execution_count": 207,
   "id": "e12c589c",
   "metadata": {},
   "outputs": [],
   "source": [
    "from prettytable import PrettyTable"
   ]
  },
  {
   "cell_type": "code",
   "execution_count": 208,
   "id": "471df34f",
   "metadata": {},
   "outputs": [
    {
     "name": "stdout",
     "output_type": "stream",
     "text": [
      "\n",
      "\n"
     ]
    }
   ],
   "source": [
    "x = PrettyTable()\n",
    "print('\\n')\n"
   ]
  },
  {
   "cell_type": "code",
   "execution_count": 209,
   "id": "fbe960d1",
   "metadata": {},
   "outputs": [],
   "source": [
    "x.field_names = [\"Model\", \"Accuracy\"]\n",
    "x.add_row([\"Linear Regression Model\", round(r_sq,2)])\n",
    "x.add_row([\"Logistic Regression model\", round(Lr,2)])\n",
    "x.add_row([\"Support Vector Machine\", round(sv,2)])\n",
    "x.add_row([\"Decision Tree Model\", round(dt,2)])\n",
    "x.add_row([\"Random Forest Classifier Model\",round(rn,2)])\n",
    "x.add_row([\"Bagging Classifier Model\", round(bc,2)])\n",
    "x.add_row([\"XGB Classifierr Model\", round(xg,2)])\n",
    "x.add_row([\"AdaBoost Classifier Model\", round(ad,2)])\n",
    "x.add_row([\"Gradient Boosting Classifier Model\", round(gb,2)])"
   ]
  },
  {
   "cell_type": "code",
   "execution_count": 210,
   "id": "af5df7a1",
   "metadata": {},
   "outputs": [
    {
     "name": "stdout",
     "output_type": "stream",
     "text": [
      "+------------------------------------+----------+\n",
      "|               Model                | Accuracy |\n",
      "+------------------------------------+----------+\n",
      "|      Linear Regression Model       |   0.98   |\n",
      "|     Logistic Regression model      |   0.99   |\n",
      "|       Support Vector Machine       |   0.98   |\n",
      "|        Decision Tree Model         |   0.94   |\n",
      "|   Random Forest Classifier Model   |   0.94   |\n",
      "|      Bagging Classifier Model      |   0.96   |\n",
      "|       XGB Classifierr Model        |   0.99   |\n",
      "|     AdaBoost Classifier Model      |   0.54   |\n",
      "| Gradient Boosting Classifier Model |   0.98   |\n",
      "+------------------------------------+----------+\n",
      "\n",
      "\n"
     ]
    }
   ],
   "source": [
    "print(x)\n",
    "print('\\n')"
   ]
  },
  {
   "cell_type": "markdown",
   "id": "6dd540b5",
   "metadata": {},
   "source": [
    "## XG Boosting and Logistic regression have given highest accuracy of 99% and while Ada Boosting had given the low accuracy of 54%"
   ]
  },
  {
   "cell_type": "code",
   "execution_count": null,
   "id": "805e63c0",
   "metadata": {},
   "outputs": [],
   "source": []
  },
  {
   "cell_type": "code",
   "execution_count": null,
   "id": "7b7e74c8",
   "metadata": {},
   "outputs": [],
   "source": []
  },
  {
   "cell_type": "code",
   "execution_count": null,
   "id": "ba15630a",
   "metadata": {},
   "outputs": [],
   "source": []
  },
  {
   "cell_type": "code",
   "execution_count": null,
   "id": "6612818a",
   "metadata": {},
   "outputs": [],
   "source": []
  },
  {
   "cell_type": "code",
   "execution_count": null,
   "id": "4f0d77c2",
   "metadata": {},
   "outputs": [],
   "source": []
  },
  {
   "cell_type": "code",
   "execution_count": null,
   "id": "51be45ca",
   "metadata": {},
   "outputs": [],
   "source": []
  },
  {
   "cell_type": "code",
   "execution_count": null,
   "id": "a65c3aef",
   "metadata": {},
   "outputs": [],
   "source": []
  }
 ],
 "metadata": {
  "kernelspec": {
   "display_name": "Python 3 (ipykernel)",
   "language": "python",
   "name": "python3"
  },
  "language_info": {
   "codemirror_mode": {
    "name": "ipython",
    "version": 3
   },
   "file_extension": ".py",
   "mimetype": "text/x-python",
   "name": "python",
   "nbconvert_exporter": "python",
   "pygments_lexer": "ipython3",
   "version": "3.9.7"
  }
 },
 "nbformat": 4,
 "nbformat_minor": 5
}
